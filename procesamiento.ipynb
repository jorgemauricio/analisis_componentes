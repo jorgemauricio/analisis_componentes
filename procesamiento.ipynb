{
 "cells": [
  {
   "cell_type": "markdown",
   "metadata": {},
   "source": [
    "### Taller de Automatización de Procesos con Python\n",
    "### Introducción a Python\n",
    "### GitHub repository: https://github.com/jorgemauricio/analisis_componentes\n",
    "### Instructor: Jorge Mauricio"
   ]
  },
  {
   "cell_type": "code",
   "execution_count": 1,
   "metadata": {
    "collapsed": true
   },
   "outputs": [],
   "source": [
    "# librerías\n",
    "import pandas as pd\n",
    "import numpy as np\n",
    "import matplotlib.pyplot as plt\n",
    "import seaborn as sns\n",
    "\n",
    "# librerías\n",
    "from sklearn.ensemble import RandomForestRegressor\n",
    "\n",
    "# The error metric, In this cas, we will use c-stat (aka ROC/AUC)\n",
    "from sklearn.metrics import roc_auc_score\n",
    "\n",
    "# an efficient data structure\n",
    "import pandas as pd\n",
    "\n",
    "%matplotlib inline"
   ]
  },
  {
   "cell_type": "code",
   "execution_count": 2,
   "metadata": {
    "collapsed": true
   },
   "outputs": [],
   "source": [
    "# leer csv\n",
    "df = pd.read_csv(\"data/papaya_bromatologicos.csv\")"
   ]
  },
  {
   "cell_type": "code",
   "execution_count": 3,
   "metadata": {},
   "outputs": [
    {
     "data": {
      "text/html": [
       "<div>\n",
       "<style>\n",
       "    .dataframe thead tr:only-child th {\n",
       "        text-align: right;\n",
       "    }\n",
       "\n",
       "    .dataframe thead th {\n",
       "        text-align: left;\n",
       "    }\n",
       "\n",
       "    .dataframe tbody tr th {\n",
       "        vertical-align: top;\n",
       "    }\n",
       "</style>\n",
       "<table border=\"1\" class=\"dataframe\">\n",
       "  <thead>\n",
       "    <tr style=\"text-align: right;\">\n",
       "      <th></th>\n",
       "      <th>Muestra</th>\n",
       "      <th>Humedad %</th>\n",
       "      <th>Azucares %</th>\n",
       "      <th>Extracto etereo %</th>\n",
       "      <th>Fibra %</th>\n",
       "      <th>Proteína %</th>\n",
       "      <th>Ceniza %</th>\n",
       "    </tr>\n",
       "  </thead>\n",
       "  <tbody>\n",
       "    <tr>\n",
       "      <th>0</th>\n",
       "      <td>PaSAC50</td>\n",
       "      <td>8.171828</td>\n",
       "      <td>10.844601</td>\n",
       "      <td>1.875403</td>\n",
       "      <td>22.001089</td>\n",
       "      <td>16.030</td>\n",
       "      <td>6.879787</td>\n",
       "    </tr>\n",
       "    <tr>\n",
       "      <th>1</th>\n",
       "      <td>PaSAC50</td>\n",
       "      <td>8.047318</td>\n",
       "      <td>12.782585</td>\n",
       "      <td>1.872500</td>\n",
       "      <td>21.374351</td>\n",
       "      <td>16.156</td>\n",
       "      <td>7.010996</td>\n",
       "    </tr>\n",
       "    <tr>\n",
       "      <th>2</th>\n",
       "      <td>PaSAC50</td>\n",
       "      <td>7.983207</td>\n",
       "      <td>13.015447</td>\n",
       "      <td>1.877934</td>\n",
       "      <td>22.001089</td>\n",
       "      <td>16.056</td>\n",
       "      <td>6.940326</td>\n",
       "    </tr>\n",
       "    <tr>\n",
       "      <th>3</th>\n",
       "      <td>PaSAC50</td>\n",
       "      <td>8.071828</td>\n",
       "      <td>11.947515</td>\n",
       "      <td>1.876403</td>\n",
       "      <td>21.743508</td>\n",
       "      <td>16.030</td>\n",
       "      <td>6.979787</td>\n",
       "    </tr>\n",
       "    <tr>\n",
       "      <th>4</th>\n",
       "      <td>PaSAC50</td>\n",
       "      <td>8.097318</td>\n",
       "      <td>11.933919</td>\n",
       "      <td>1.873500</td>\n",
       "      <td>21.901089</td>\n",
       "      <td>16.086</td>\n",
       "      <td>7.000996</td>\n",
       "    </tr>\n",
       "  </tbody>\n",
       "</table>\n",
       "</div>"
      ],
      "text/plain": [
       "   Muestra  Humedad %  Azucares %  Extracto etereo %    Fibra %  Proteína %  \\\n",
       "0  PaSAC50   8.171828   10.844601           1.875403  22.001089      16.030   \n",
       "1  PaSAC50   8.047318   12.782585           1.872500  21.374351      16.156   \n",
       "2  PaSAC50   7.983207   13.015447           1.877934  22.001089      16.056   \n",
       "3  PaSAC50   8.071828   11.947515           1.876403  21.743508      16.030   \n",
       "4  PaSAC50   8.097318   11.933919           1.873500  21.901089      16.086   \n",
       "\n",
       "   Ceniza %  \n",
       "0  6.879787  \n",
       "1  7.010996  \n",
       "2  6.940326  \n",
       "3  6.979787  \n",
       "4  7.000996  "
      ]
     },
     "execution_count": 3,
     "metadata": {},
     "output_type": "execute_result"
    }
   ],
   "source": [
    "# estructura\n",
    "df.head()"
   ]
  },
  {
   "cell_type": "code",
   "execution_count": 4,
   "metadata": {},
   "outputs": [
    {
     "data": {
      "text/plain": [
       "<seaborn.axisgrid.PairGrid at 0x118103fd0>"
      ]
     },
     "execution_count": 4,
     "metadata": {},
     "output_type": "execute_result"
    },
    {
     "data": {
      "image/png": "[encoded data removed]",
      "text/plain": [
       "<matplotlib.figure.Figure at 0x118103b38>"
      ]
     },
     "metadata": {},
     "output_type": "display_data"
    }
   ],
   "source": [
    "sns.pairplot(df,hue='Muestra',palette='Set1')"
   ]
  },
  {
   "cell_type": "code",
   "execution_count": 5,
   "metadata": {
    "collapsed": true
   },
   "outputs": [],
   "source": [
    "# Train Test Split\n",
    "from sklearn.model_selection import train_test_split\n",
    "X = df.drop('Muestra',axis=1)\n",
    "y = df['Muestra']\n",
    "X_train, X_test, y_train, y_test = train_test_split(X, y, test_size=0.30)"
   ]
  },
  {
   "cell_type": "code",
   "execution_count": 6,
   "metadata": {},
   "outputs": [
    {
     "data": {
      "text/plain": [
       "DecisionTreeClassifier(class_weight=None, criterion='gini', max_depth=None,\n",
       "            max_features=None, max_leaf_nodes=None,\n",
       "            min_impurity_decrease=0.0, min_impurity_split=None,\n",
       "            min_samples_leaf=1, min_samples_split=2,\n",
       "            min_weight_fraction_leaf=0.0, presort=False, random_state=None,\n",
       "            splitter='best')"
      ]
     },
     "execution_count": 6,
     "metadata": {},
     "output_type": "execute_result"
    }
   ],
   "source": [
    "#Decision Trees\n",
    "from sklearn.tree import DecisionTreeClassifier\n",
    "dtree = DecisionTreeClassifier()\n",
    "dtree.fit(X_train,y_train)"
   ]
  },
  {
   "cell_type": "code",
   "execution_count": 7,
   "metadata": {
    "collapsed": true
   },
   "outputs": [],
   "source": [
    "# prediction and evaluation\n",
    "predictions = dtree.predict(X_test)"
   ]
  },
  {
   "cell_type": "code",
   "execution_count": 8,
   "metadata": {},
   "outputs": [
    {
     "name": "stdout",
     "output_type": "stream",
     "text": [
      "             precision    recall  f1-score   support\n",
      "\n",
      "    PaLIO50       1.00      1.00      1.00         2\n",
      "    PaLIO80       1.00      1.00      1.00         2\n",
      "    PaSAC50       1.00      1.00      1.00         3\n",
      "    PaSAC80       1.00      1.00      1.00         4\n",
      "\n",
      "avg / total       1.00      1.00      1.00        11\n",
      "\n"
     ]
    }
   ],
   "source": [
    "from sklearn.metrics import classification_report,confusion_matrix\n",
    "print(classification_report(y_test,predictions))"
   ]
  },
  {
   "cell_type": "code",
   "execution_count": 9,
   "metadata": {},
   "outputs": [
    {
     "name": "stdout",
     "output_type": "stream",
     "text": [
      "[[2 0 0 0]\n",
      " [0 2 0 0]\n",
      " [0 0 3 0]\n",
      " [0 0 0 4]]\n"
     ]
    }
   ],
   "source": [
    "print(confusion_matrix(y_test,predictions))"
   ]
  },
  {
   "cell_type": "code",
   "execution_count": 10,
   "metadata": {},
   "outputs": [
    {
     "data": {
      "text/plain": [
       "['Humedad %',\n",
       " 'Azucares %',\n",
       " 'Extracto etereo %',\n",
       " 'Fibra %',\n",
       " 'Proteína %',\n",
       " 'Ceniza %']"
      ]
     },
     "execution_count": 10,
     "metadata": {},
     "output_type": "execute_result"
    }
   ],
   "source": [
    "# Tree Visualization\n",
    "from IPython.display import Image  \n",
    "from sklearn.externals.six import StringIO  \n",
    "from sklearn.tree import export_graphviz\n",
    "import pydot \n",
    "\n",
    "features = list(df.columns[1:])\n",
    "features"
   ]
  },
  {
   "cell_type": "code",
   "execution_count": 11,
   "metadata": {},
   "outputs": [
    {
     "data": {
      "image/png": "[encoded data removed]",
      "text/plain": [
       "<IPython.core.display.Image object>"
      ]
     },
     "execution_count": 11,
     "metadata": {},
     "output_type": "execute_result"
    }
   ],
   "source": [
    "dot_data = StringIO()  \n",
    "export_graphviz(dtree, out_file=dot_data,feature_names=features,filled=True,rounded=True)\n",
    "\n",
    "graph = pydot.graph_from_dot_data(dot_data.getvalue())  \n",
    "Image(graph[0].create_png()) "
   ]
  },
  {
   "cell_type": "code",
   "execution_count": 13,
   "metadata": {},
   "outputs": [
    {
     "data": {
      "text/plain": [
       "RandomForestClassifier(bootstrap=True, class_weight=None, criterion='gini',\n",
       "            max_depth=None, max_features='auto', max_leaf_nodes=None,\n",
       "            min_impurity_decrease=0.0, min_impurity_split=None,\n",
       "            min_samples_leaf=1, min_samples_split=2,\n",
       "            min_weight_fraction_leaf=0.0, n_estimators=100, n_jobs=1,\n",
       "            oob_score=False, random_state=None, verbose=0,\n",
       "            warm_start=False)"
      ]
     },
     "execution_count": 13,
     "metadata": {},
     "output_type": "execute_result"
    }
   ],
   "source": [
    "# random forests\n",
    "from sklearn.ensemble import RandomForestClassifier\n",
    "rfc = RandomForestClassifier(n_estimators=100)\n",
    "rfc.fit(X_train, y_train)"
   ]
  },
  {
   "cell_type": "code",
   "execution_count": 14,
   "metadata": {},
   "outputs": [
    {
     "name": "stdout",
     "output_type": "stream",
     "text": [
      "[[2 0 0 0]\n",
      " [0 2 0 0]\n",
      " [0 0 3 0]\n",
      " [0 0 0 4]]\n"
     ]
    }
   ],
   "source": [
    "rfc_pred = rfc.predict(X_test)\n",
    "print(confusion_matrix(y_test,rfc_pred))"
   ]
  },
  {
   "cell_type": "code",
   "execution_count": 15,
   "metadata": {},
   "outputs": [
    {
     "name": "stdout",
     "output_type": "stream",
     "text": [
      "             precision    recall  f1-score   support\n",
      "\n",
      "    PaLIO50       1.00      1.00      1.00         2\n",
      "    PaLIO80       1.00      1.00      1.00         2\n",
      "    PaSAC50       1.00      1.00      1.00         3\n",
      "    PaSAC80       1.00      1.00      1.00         4\n",
      "\n",
      "avg / total       1.00      1.00      1.00        11\n",
      "\n"
     ]
    }
   ],
   "source": [
    "print(classification_report(y_test,rfc_pred))"
   ]
  },
  {
   "cell_type": "code",
   "execution_count": 18,
   "metadata": {},
   "outputs": [],
   "source": [
    "# PCA\n",
    "from sklearn.preprocessing import StandardScaler"
   ]
  },
  {
   "cell_type": "code",
   "execution_count": 20,
   "metadata": {},
   "outputs": [
    {
     "data": {
      "text/html": [
       "<div>\n",
       "<style>\n",
       "    .dataframe thead tr:only-child th {\n",
       "        text-align: right;\n",
       "    }\n",
       "\n",
       "    .dataframe thead th {\n",
       "        text-align: left;\n",
       "    }\n",
       "\n",
       "    .dataframe tbody tr th {\n",
       "        vertical-align: top;\n",
       "    }\n",
       "</style>\n",
       "<table border=\"1\" class=\"dataframe\">\n",
       "  <thead>\n",
       "    <tr style=\"text-align: right;\">\n",
       "      <th></th>\n",
       "      <th>Humedad %</th>\n",
       "      <th>Azucares %</th>\n",
       "      <th>Extracto etereo %</th>\n",
       "      <th>Fibra %</th>\n",
       "      <th>Proteína %</th>\n",
       "      <th>Ceniza %</th>\n",
       "    </tr>\n",
       "  </thead>\n",
       "  <tbody>\n",
       "    <tr>\n",
       "      <th>0</th>\n",
       "      <td>8.171828</td>\n",
       "      <td>10.844601</td>\n",
       "      <td>1.875403</td>\n",
       "      <td>22.001089</td>\n",
       "      <td>16.0300</td>\n",
       "      <td>6.879787</td>\n",
       "    </tr>\n",
       "    <tr>\n",
       "      <th>1</th>\n",
       "      <td>8.047318</td>\n",
       "      <td>12.782585</td>\n",
       "      <td>1.872500</td>\n",
       "      <td>21.374351</td>\n",
       "      <td>16.1560</td>\n",
       "      <td>7.010996</td>\n",
       "    </tr>\n",
       "    <tr>\n",
       "      <th>2</th>\n",
       "      <td>7.983207</td>\n",
       "      <td>13.015447</td>\n",
       "      <td>1.877934</td>\n",
       "      <td>22.001089</td>\n",
       "      <td>16.0560</td>\n",
       "      <td>6.940326</td>\n",
       "    </tr>\n",
       "    <tr>\n",
       "      <th>3</th>\n",
       "      <td>8.071828</td>\n",
       "      <td>11.947515</td>\n",
       "      <td>1.876403</td>\n",
       "      <td>21.743508</td>\n",
       "      <td>16.0300</td>\n",
       "      <td>6.979787</td>\n",
       "    </tr>\n",
       "    <tr>\n",
       "      <th>4</th>\n",
       "      <td>8.097318</td>\n",
       "      <td>11.933919</td>\n",
       "      <td>1.873500</td>\n",
       "      <td>21.901089</td>\n",
       "      <td>16.0860</td>\n",
       "      <td>7.000996</td>\n",
       "    </tr>\n",
       "    <tr>\n",
       "      <th>5</th>\n",
       "      <td>7.983207</td>\n",
       "      <td>13.662424</td>\n",
       "      <td>1.876934</td>\n",
       "      <td>21.843508</td>\n",
       "      <td>16.0760</td>\n",
       "      <td>6.990326</td>\n",
       "    </tr>\n",
       "    <tr>\n",
       "      <th>6</th>\n",
       "      <td>8.121828</td>\n",
       "      <td>14.887668</td>\n",
       "      <td>1.875403</td>\n",
       "      <td>21.701089</td>\n",
       "      <td>16.0400</td>\n",
       "      <td>6.909787</td>\n",
       "    </tr>\n",
       "    <tr>\n",
       "      <th>7</th>\n",
       "      <td>8.147318</td>\n",
       "      <td>11.850996</td>\n",
       "      <td>1.875500</td>\n",
       "      <td>21.991089</td>\n",
       "      <td>16.1260</td>\n",
       "      <td>6.996335</td>\n",
       "    </tr>\n",
       "    <tr>\n",
       "      <th>8</th>\n",
       "      <td>8.083207</td>\n",
       "      <td>11.167006</td>\n",
       "      <td>1.877934</td>\n",
       "      <td>21.574351</td>\n",
       "      <td>16.0960</td>\n",
       "      <td>6.983259</td>\n",
       "    </tr>\n",
       "    <tr>\n",
       "      <th>9</th>\n",
       "      <td>7.334711</td>\n",
       "      <td>14.590271</td>\n",
       "      <td>1.976403</td>\n",
       "      <td>20.350833</td>\n",
       "      <td>14.6750</td>\n",
       "      <td>5.981738</td>\n",
       "    </tr>\n",
       "    <tr>\n",
       "      <th>10</th>\n",
       "      <td>7.236623</td>\n",
       "      <td>13.748634</td>\n",
       "      <td>1.942584</td>\n",
       "      <td>19.271122</td>\n",
       "      <td>14.6340</td>\n",
       "      <td>6.313720</td>\n",
       "    </tr>\n",
       "    <tr>\n",
       "      <th>11</th>\n",
       "      <td>7.191176</td>\n",
       "      <td>12.592010</td>\n",
       "      <td>1.959200</td>\n",
       "      <td>20.050833</td>\n",
       "      <td>14.7530</td>\n",
       "      <td>6.288114</td>\n",
       "    </tr>\n",
       "    <tr>\n",
       "      <th>12</th>\n",
       "      <td>7.304711</td>\n",
       "      <td>15.236109</td>\n",
       "      <td>1.964031</td>\n",
       "      <td>19.971122</td>\n",
       "      <td>14.6750</td>\n",
       "      <td>6.081738</td>\n",
       "    </tr>\n",
       "    <tr>\n",
       "      <th>13</th>\n",
       "      <td>7.286623</td>\n",
       "      <td>11.586072</td>\n",
       "      <td>1.952584</td>\n",
       "      <td>19.935083</td>\n",
       "      <td>14.6340</td>\n",
       "      <td>6.237203</td>\n",
       "    </tr>\n",
       "    <tr>\n",
       "      <th>14</th>\n",
       "      <td>7.259118</td>\n",
       "      <td>13.168053</td>\n",
       "      <td>1.959200</td>\n",
       "      <td>19.771122</td>\n",
       "      <td>14.7530</td>\n",
       "      <td>6.188114</td>\n",
       "    </tr>\n",
       "    <tr>\n",
       "      <th>15</th>\n",
       "      <td>7.314711</td>\n",
       "      <td>14.928945</td>\n",
       "      <td>1.966403</td>\n",
       "      <td>20.150833</td>\n",
       "      <td>14.6850</td>\n",
       "      <td>6.081738</td>\n",
       "    </tr>\n",
       "    <tr>\n",
       "      <th>16</th>\n",
       "      <td>7.206623</td>\n",
       "      <td>15.102677</td>\n",
       "      <td>1.952584</td>\n",
       "      <td>20.300833</td>\n",
       "      <td>14.6140</td>\n",
       "      <td>6.213720</td>\n",
       "    </tr>\n",
       "    <tr>\n",
       "      <th>17</th>\n",
       "      <td>7.291176</td>\n",
       "      <td>13.687710</td>\n",
       "      <td>1.959200</td>\n",
       "      <td>19.991122</td>\n",
       "      <td>14.7530</td>\n",
       "      <td>6.188114</td>\n",
       "    </tr>\n",
       "    <tr>\n",
       "      <th>18</th>\n",
       "      <td>7.102188</td>\n",
       "      <td>12.791178</td>\n",
       "      <td>1.368725</td>\n",
       "      <td>19.905859</td>\n",
       "      <td>16.4680</td>\n",
       "      <td>5.753671</td>\n",
       "    </tr>\n",
       "    <tr>\n",
       "      <th>19</th>\n",
       "      <td>7.196894</td>\n",
       "      <td>15.965394</td>\n",
       "      <td>1.303278</td>\n",
       "      <td>20.171591</td>\n",
       "      <td>16.1755</td>\n",
       "      <td>5.773442</td>\n",
       "    </tr>\n",
       "    <tr>\n",
       "      <th>20</th>\n",
       "      <td>7.107076</td>\n",
       "      <td>16.484575</td>\n",
       "      <td>1.338515</td>\n",
       "      <td>19.958589</td>\n",
       "      <td>16.1805</td>\n",
       "      <td>5.572949</td>\n",
       "    </tr>\n",
       "    <tr>\n",
       "      <th>21</th>\n",
       "      <td>7.132188</td>\n",
       "      <td>18.447367</td>\n",
       "      <td>1.348725</td>\n",
       "      <td>20.101591</td>\n",
       "      <td>16.4680</td>\n",
       "      <td>5.753671</td>\n",
       "    </tr>\n",
       "    <tr>\n",
       "      <th>22</th>\n",
       "      <td>7.156894</td>\n",
       "      <td>14.002347</td>\n",
       "      <td>1.332781</td>\n",
       "      <td>19.995859</td>\n",
       "      <td>16.1755</td>\n",
       "      <td>5.673442</td>\n",
       "    </tr>\n",
       "    <tr>\n",
       "      <th>23</th>\n",
       "      <td>7.167076</td>\n",
       "      <td>15.731846</td>\n",
       "      <td>1.328515</td>\n",
       "      <td>19.971591</td>\n",
       "      <td>16.1805</td>\n",
       "      <td>5.672949</td>\n",
       "    </tr>\n",
       "    <tr>\n",
       "      <th>24</th>\n",
       "      <td>7.102188</td>\n",
       "      <td>15.044183</td>\n",
       "      <td>1.348725</td>\n",
       "      <td>19.905859</td>\n",
       "      <td>16.4680</td>\n",
       "      <td>5.753671</td>\n",
       "    </tr>\n",
       "    <tr>\n",
       "      <th>25</th>\n",
       "      <td>7.186894</td>\n",
       "      <td>15.659852</td>\n",
       "      <td>1.313278</td>\n",
       "      <td>19.945859</td>\n",
       "      <td>16.1755</td>\n",
       "      <td>5.773442</td>\n",
       "    </tr>\n",
       "    <tr>\n",
       "      <th>26</th>\n",
       "      <td>7.127076</td>\n",
       "      <td>15.188894</td>\n",
       "      <td>1.328515</td>\n",
       "      <td>20.131591</td>\n",
       "      <td>16.1805</td>\n",
       "      <td>5.682949</td>\n",
       "    </tr>\n",
       "    <tr>\n",
       "      <th>27</th>\n",
       "      <td>6.001933</td>\n",
       "      <td>15.474228</td>\n",
       "      <td>1.427530</td>\n",
       "      <td>17.735205</td>\n",
       "      <td>14.0540</td>\n",
       "      <td>5.795314</td>\n",
       "    </tr>\n",
       "    <tr>\n",
       "      <th>28</th>\n",
       "      <td>6.141958</td>\n",
       "      <td>17.670509</td>\n",
       "      <td>1.408794</td>\n",
       "      <td>16.972876</td>\n",
       "      <td>13.9350</td>\n",
       "      <td>5.895480</td>\n",
       "    </tr>\n",
       "    <tr>\n",
       "      <th>29</th>\n",
       "      <td>6.064039</td>\n",
       "      <td>17.193656</td>\n",
       "      <td>1.420343</td>\n",
       "      <td>16.945205</td>\n",
       "      <td>13.9970</td>\n",
       "      <td>5.664212</td>\n",
       "    </tr>\n",
       "    <tr>\n",
       "      <th>30</th>\n",
       "      <td>6.019329</td>\n",
       "      <td>14.279045</td>\n",
       "      <td>1.427530</td>\n",
       "      <td>16.912876</td>\n",
       "      <td>13.9540</td>\n",
       "      <td>5.753144</td>\n",
       "    </tr>\n",
       "    <tr>\n",
       "      <th>31</th>\n",
       "      <td>6.041958</td>\n",
       "      <td>17.284586</td>\n",
       "      <td>1.408794</td>\n",
       "      <td>17.035205</td>\n",
       "      <td>13.9950</td>\n",
       "      <td>5.895480</td>\n",
       "    </tr>\n",
       "    <tr>\n",
       "      <th>32</th>\n",
       "      <td>6.084039</td>\n",
       "      <td>17.549530</td>\n",
       "      <td>1.420343</td>\n",
       "      <td>16.992876</td>\n",
       "      <td>14.0270</td>\n",
       "      <td>5.764212</td>\n",
       "    </tr>\n",
       "    <tr>\n",
       "      <th>33</th>\n",
       "      <td>6.031933</td>\n",
       "      <td>18.637133</td>\n",
       "      <td>1.427530</td>\n",
       "      <td>17.352045</td>\n",
       "      <td>13.9540</td>\n",
       "      <td>5.705314</td>\n",
       "    </tr>\n",
       "    <tr>\n",
       "      <th>34</th>\n",
       "      <td>6.101958</td>\n",
       "      <td>17.301584</td>\n",
       "      <td>1.408794</td>\n",
       "      <td>17.435205</td>\n",
       "      <td>13.9950</td>\n",
       "      <td>5.795480</td>\n",
       "    </tr>\n",
       "    <tr>\n",
       "      <th>35</th>\n",
       "      <td>6.084039</td>\n",
       "      <td>18.797354</td>\n",
       "      <td>1.420343</td>\n",
       "      <td>16.992876</td>\n",
       "      <td>13.9670</td>\n",
       "      <td>5.714212</td>\n",
       "    </tr>\n",
       "  </tbody>\n",
       "</table>\n",
       "</div>"
      ],
      "text/plain": [
       "    Humedad %  Azucares %  Extracto etereo %    Fibra %  Proteína %  Ceniza %\n",
       "0    8.171828   10.844601           1.875403  22.001089     16.0300  6.879787\n",
       "1    8.047318   12.782585           1.872500  21.374351     16.1560  7.010996\n",
       "2    7.983207   13.015447           1.877934  22.001089     16.0560  6.940326\n",
       "3    8.071828   11.947515           1.876403  21.743508     16.0300  6.979787\n",
       "4    8.097318   11.933919           1.873500  21.901089     16.0860  7.000996\n",
       "5    7.983207   13.662424           1.876934  21.843508     16.0760  6.990326\n",
       "6    8.121828   14.887668           1.875403  21.701089     16.0400  6.909787\n",
       "7    8.147318   11.850996           1.875500  21.991089     16.1260  6.996335\n",
       "8    8.083207   11.167006           1.877934  21.574351     16.0960  6.983259\n",
       "9    7.334711   14.590271           1.976403  20.350833     14.6750  5.981738\n",
       "10   7.236623   13.748634           1.942584  19.271122     14.6340  6.313720\n",
       "11   7.191176   12.592010           1.959200  20.050833     14.7530  6.288114\n",
       "12   7.304711   15.236109           1.964031  19.971122     14.6750  6.081738\n",
       "13   7.286623   11.586072           1.952584  19.935083     14.6340  6.237203\n",
       "14   7.259118   13.168053           1.959200  19.771122     14.7530  6.188114\n",
       "15   7.314711   14.928945           1.966403  20.150833     14.6850  6.081738\n",
       "16   7.206623   15.102677           1.952584  20.300833     14.6140  6.213720\n",
       "17   7.291176   13.687710           1.959200  19.991122     14.7530  6.188114\n",
       "18   7.102188   12.791178           1.368725  19.905859     16.4680  5.753671\n",
       "19   7.196894   15.965394           1.303278  20.171591     16.1755  5.773442\n",
       "20   7.107076   16.484575           1.338515  19.958589     16.1805  5.572949\n",
       "21   7.132188   18.447367           1.348725  20.101591     16.4680  5.753671\n",
       "22   7.156894   14.002347           1.332781  19.995859     16.1755  5.673442\n",
       "23   7.167076   15.731846           1.328515  19.971591     16.1805  5.672949\n",
       "24   7.102188   15.044183           1.348725  19.905859     16.4680  5.753671\n",
       "25   7.186894   15.659852           1.313278  19.945859     16.1755  5.773442\n",
       "26   7.127076   15.188894           1.328515  20.131591     16.1805  5.682949\n",
       "27   6.001933   15.474228           1.427530  17.735205     14.0540  5.795314\n",
       "28   6.141958   17.670509           1.408794  16.972876     13.9350  5.895480\n",
       "29   6.064039   17.193656           1.420343  16.945205     13.9970  5.664212\n",
       "30   6.019329   14.279045           1.427530  16.912876     13.9540  5.753144\n",
       "31   6.041958   17.284586           1.408794  17.035205     13.9950  5.895480\n",
       "32   6.084039   17.549530           1.420343  16.992876     14.0270  5.764212\n",
       "33   6.031933   18.637133           1.427530  17.352045     13.9540  5.705314\n",
       "34   6.101958   17.301584           1.408794  17.435205     13.9950  5.795480\n",
       "35   6.084039   18.797354           1.420343  16.992876     13.9670  5.714212"
      ]
     },
     "execution_count": 20,
     "metadata": {},
     "output_type": "execute_result"
    }
   ],
   "source": [
    "X = df.drop(\"Muestra\", axis=1)"
   ]
  },
  {
   "cell_type": "code",
   "execution_count": 29,
   "metadata": {
    "collapsed": true
   },
   "outputs": [],
   "source": [
    "from sklearn.preprocessing import StandardScaler"
   ]
  },
  {
   "cell_type": "code",
   "execution_count": 30,
   "metadata": {},
   "outputs": [
    {
     "data": {
      "text/plain": [
       "StandardScaler(copy=True, with_mean=True, with_std=True)"
      ]
     },
     "execution_count": 30,
     "metadata": {},
     "output_type": "execute_result"
    }
   ],
   "source": [
    "scaler = StandardScaler()\n",
    "scaler.fit(X)"
   ]
  },
  {
   "cell_type": "code",
   "execution_count": 31,
   "metadata": {
    "collapsed": true
   },
   "outputs": [],
   "source": [
    "scaled_data = scaler.transform(X)"
   ]
  },
  {
   "cell_type": "code",
   "execution_count": 32,
   "metadata": {},
   "outputs": [
    {
     "data": {
      "text/plain": [
       "PCA(copy=True, iterated_power='auto', n_components=2, random_state=None,\n",
       "  svd_solver='auto', tol=0.0, whiten=False)"
      ]
     },
     "execution_count": 32,
     "metadata": {},
     "output_type": "execute_result"
    }
   ],
   "source": [
    "from sklearn.decomposition import PCA\n",
    "pca = PCA(n_components=2)\n",
    "pca.fit(scaled_data)"
   ]
  },
  {
   "cell_type": "code",
   "execution_count": 33,
   "metadata": {
    "collapsed": true
   },
   "outputs": [],
   "source": [
    "x_pca = pca.transform(scaled_data)"
   ]
  },
  {
   "cell_type": "code",
   "execution_count": 34,
   "metadata": {},
   "outputs": [
    {
     "data": {
      "text/plain": [
       "(36, 6)"
      ]
     },
     "execution_count": 34,
     "metadata": {},
     "output_type": "execute_result"
    }
   ],
   "source": [
    "scaled_data.shape"
   ]
  },
  {
   "cell_type": "code",
   "execution_count": 35,
   "metadata": {},
   "outputs": [
    {
     "data": {
      "text/plain": [
       "(36, 2)"
      ]
     },
     "execution_count": 35,
     "metadata": {},
     "output_type": "execute_result"
    }
   ],
   "source": [
    "x_pca.shape"
   ]
  },
  {
   "cell_type": "code",
   "execution_count": 40,
   "metadata": {},
   "outputs": [
    {
     "data": {
      "text/html": [
       "<div>\n",
       "<style>\n",
       "    .dataframe thead tr:only-child th {\n",
       "        text-align: right;\n",
       "    }\n",
       "\n",
       "    .dataframe thead th {\n",
       "        text-align: left;\n",
       "    }\n",
       "\n",
       "    .dataframe tbody tr th {\n",
       "        vertical-align: top;\n",
       "    }\n",
       "</style>\n",
       "<table border=\"1\" class=\"dataframe\">\n",
       "  <thead>\n",
       "    <tr style=\"text-align: right;\">\n",
       "      <th></th>\n",
       "      <th>Humedad %</th>\n",
       "      <th>Azucares %</th>\n",
       "      <th>Extracto etereo %</th>\n",
       "      <th>Fibra %</th>\n",
       "      <th>Proteína %</th>\n",
       "      <th>Ceniza %</th>\n",
       "    </tr>\n",
       "  </thead>\n",
       "  <tbody>\n",
       "    <tr>\n",
       "      <th>0</th>\n",
       "      <td>8.171828</td>\n",
       "      <td>10.844601</td>\n",
       "      <td>1.875403</td>\n",
       "      <td>22.001089</td>\n",
       "      <td>16.030</td>\n",
       "      <td>6.879787</td>\n",
       "    </tr>\n",
       "    <tr>\n",
       "      <th>1</th>\n",
       "      <td>8.047318</td>\n",
       "      <td>12.782585</td>\n",
       "      <td>1.872500</td>\n",
       "      <td>21.374351</td>\n",
       "      <td>16.156</td>\n",
       "      <td>7.010996</td>\n",
       "    </tr>\n",
       "    <tr>\n",
       "      <th>2</th>\n",
       "      <td>7.983207</td>\n",
       "      <td>13.015447</td>\n",
       "      <td>1.877934</td>\n",
       "      <td>22.001089</td>\n",
       "      <td>16.056</td>\n",
       "      <td>6.940326</td>\n",
       "    </tr>\n",
       "    <tr>\n",
       "      <th>3</th>\n",
       "      <td>8.071828</td>\n",
       "      <td>11.947515</td>\n",
       "      <td>1.876403</td>\n",
       "      <td>21.743508</td>\n",
       "      <td>16.030</td>\n",
       "      <td>6.979787</td>\n",
       "    </tr>\n",
       "    <tr>\n",
       "      <th>4</th>\n",
       "      <td>8.097318</td>\n",
       "      <td>11.933919</td>\n",
       "      <td>1.873500</td>\n",
       "      <td>21.901089</td>\n",
       "      <td>16.086</td>\n",
       "      <td>7.000996</td>\n",
       "    </tr>\n",
       "  </tbody>\n",
       "</table>\n",
       "</div>"
      ],
      "text/plain": [
       "   Humedad %  Azucares %  Extracto etereo %    Fibra %  Proteína %  Ceniza %\n",
       "0   8.171828   10.844601           1.875403  22.001089      16.030  6.879787\n",
       "1   8.047318   12.782585           1.872500  21.374351      16.156  7.010996\n",
       "2   7.983207   13.015447           1.877934  22.001089      16.056  6.940326\n",
       "3   8.071828   11.947515           1.876403  21.743508      16.030  6.979787\n",
       "4   8.097318   11.933919           1.873500  21.901089      16.086  7.000996"
      ]
     },
     "execution_count": 40,
     "metadata": {},
     "output_type": "execute_result"
    }
   ],
   "source": [
    "X.head()"
   ]
  },
  {
   "cell_type": "code",
   "execution_count": 50,
   "metadata": {},
   "outputs": [],
   "source": [
    "def generar_indice(elemento):\n",
    "    if elemento == \"PaSAC50\":\n",
    "        return 1\n",
    "    if elemento == \"PaSAC80\":\n",
    "        return 2\n",
    "    if elemento == \"PaLIO50\":\n",
    "        return 3\n",
    "    if elemento == \"PaLIO80\":\n",
    "        return 4"
   ]
  },
  {
   "cell_type": "code",
   "execution_count": 52,
   "metadata": {},
   "outputs": [],
   "source": [
    "y_dummies = list(map(generar_indice,y))"
   ]
  },
  {
   "cell_type": "code",
   "execution_count": 53,
   "metadata": {},
   "outputs": [
    {
     "data": {
      "text/plain": [
       "Text(0,0.5,'Second Principal Component')"
      ]
     },
     "execution_count": 53,
     "metadata": {},
     "output_type": "execute_result"
    },
    {
     "data": {
      "image/png": "[encoded data removed]",
      "text/plain": [
       "<matplotlib.figure.Figure at 0x11d156080>"
      ]
     },
     "metadata": {},
     "output_type": "display_data"
    }
   ],
   "source": [
    "plt.figure(figsize=(8,6))\n",
    "plt.scatter(x_pca[:,0],x_pca[:,1],c=y_dummies,cmap='plasma')\n",
    "plt.xlabel('First principal component')\n",
    "plt.ylabel('Second Principal Component')"
   ]
  },
  {
   "cell_type": "code",
   "execution_count": 54,
   "metadata": {},
   "outputs": [
    {
     "data": {
      "text/plain": [
       "array([[-0.47127516,  0.413324  , -0.34569398, -0.46058078, -0.31511255,\n",
       "        -0.41967616],\n",
       "       [ 0.13324879,  0.14738689, -0.60036773,  0.21187538,  0.69628881,\n",
       "        -0.26527565]])"
      ]
     },
     "execution_count": 54,
     "metadata": {},
     "output_type": "execute_result"
    }
   ],
   "source": [
    "# interpreting the components\n",
    "pca.components_"
   ]
  },
  {
   "cell_type": "code",
   "execution_count": 55,
   "metadata": {
    "collapsed": true
   },
   "outputs": [],
   "source": [
    "df_comp = pd.DataFrame(pca.components_,columns=X.columns)"
   ]
  },
  {
   "cell_type": "code",
   "execution_count": 58,
   "metadata": {},
   "outputs": [
    {
     "data": {
      "text/plain": [
       "<matplotlib.axes._subplots.AxesSubplot at 0x11b75d940>"
      ]
     },
     "execution_count": 58,
     "metadata": {},
     "output_type": "execute_result"
    },
    {
     "data": {
      "image/png": "[encoded data removed]",
      "text/plain": [
       "<matplotlib.figure.Figure at 0x11d4be3c8>"
      ]
     },
     "metadata": {},
     "output_type": "display_data"
    }
   ],
   "source": [
    "plt.figure(figsize=(12,6))\n",
    "sns.heatmap(df_comp,cmap='plasma',)"
   ]
  },
  {
   "cell_type": "code",
   "execution_count": 61,
   "metadata": {},
   "outputs": [],
   "source": [
    "# K Nearest Neighbors\n",
    "from sklearn.model_selection import train_test_split\n",
    "X_train, X_test, y_train, y_test = train_test_split(scaled_data,y_dummies,\n",
    "                                                    test_size=0.30)"
   ]
  },
  {
   "cell_type": "code",
   "execution_count": null,
   "metadata": {
    "collapsed": true
   },
   "outputs": [],
   "source": [
    "# using KNN"
   ]
  },
  {
   "cell_type": "code",
   "execution_count": 62,
   "metadata": {},
   "outputs": [
    {
     "data": {
      "text/plain": [
       "KNeighborsClassifier(algorithm='auto', leaf_size=30, metric='minkowski',\n",
       "           metric_params=None, n_jobs=1, n_neighbors=1, p=2,\n",
       "           weights='uniform')"
      ]
     },
     "execution_count": 62,
     "metadata": {},
     "output_type": "execute_result"
    }
   ],
   "source": [
    "from sklearn.neighbors import KNeighborsClassifier\n",
    "knn = KNeighborsClassifier(n_neighbors=1)\n",
    "knn.fit(X_train,y_train)"
   ]
  },
  {
   "cell_type": "code",
   "execution_count": 63,
   "metadata": {
    "collapsed": true
   },
   "outputs": [],
   "source": [
    "pred = knn.predict(X_test)"
   ]
  },
  {
   "cell_type": "code",
   "execution_count": 64,
   "metadata": {
    "collapsed": true
   },
   "outputs": [],
   "source": [
    "from sklearn.metrics import classification_report,confusion_matrix"
   ]
  },
  {
   "cell_type": "code",
   "execution_count": 65,
   "metadata": {},
   "outputs": [
    {
     "name": "stdout",
     "output_type": "stream",
     "text": [
      "[[3 0 0 0]\n",
      " [0 4 0 0]\n",
      " [0 0 2 0]\n",
      " [0 0 0 2]]\n"
     ]
    }
   ],
   "source": [
    "print(confusion_matrix(y_test,pred))"
   ]
  },
  {
   "cell_type": "code",
   "execution_count": 66,
   "metadata": {},
   "outputs": [
    {
     "name": "stdout",
     "output_type": "stream",
     "text": [
      "             precision    recall  f1-score   support\n",
      "\n",
      "          1       1.00      1.00      1.00         3\n",
      "          2       1.00      1.00      1.00         4\n",
      "          3       1.00      1.00      1.00         2\n",
      "          4       1.00      1.00      1.00         2\n",
      "\n",
      "avg / total       1.00      1.00      1.00        11\n",
      "\n"
     ]
    }
   ],
   "source": [
    "print(classification_report(y_test,pred))"
   ]
  },
  {
   "cell_type": "code",
   "execution_count": 68,
   "metadata": {},
   "outputs": [],
   "source": [
    "# choosing a K Value\n",
    "error_rate = []\n",
    "\n",
    "# Will take some time\n",
    "for i in range(1,25):\n",
    "    \n",
    "    knn = KNeighborsClassifier(n_neighbors=i)\n",
    "    knn.fit(X_train,y_train)\n",
    "    pred_i = knn.predict(X_test)\n",
    "    error_rate.append(np.mean(pred_i != y_test))"
   ]
  },
  {
   "cell_type": "code",
   "execution_count": 69,
   "metadata": {},
   "outputs": [
    {
     "data": {
      "text/plain": [
       "Text(0,0.5,'Error Rate')"
      ]
     },
     "execution_count": 69,
     "metadata": {},
     "output_type": "execute_result"
    },
    {
     "data": {
      "image/png": "[encoded data removed]",
      "text/plain": [
       "<matplotlib.figure.Figure at 0x11d75ab00>"
      ]
     },
     "metadata": {},
     "output_type": "display_data"
    }
   ],
   "source": [
    "plt.figure(figsize=(10,6))\n",
    "plt.plot(range(1,25),error_rate,color='blue', linestyle='dashed', marker='o',\n",
    "         markerfacecolor='red', markersize=10)\n",
    "plt.title('Error Rate vs. K Value')\n",
    "plt.xlabel('K')\n",
    "plt.ylabel('Error Rate')"
   ]
  },
  {
   "cell_type": "code",
   "execution_count": 70,
   "metadata": {},
   "outputs": [
    {
     "name": "stdout",
     "output_type": "stream",
     "text": [
      "WITH K=1\n",
      "\n",
      "\n",
      "[[3 0 0 0]\n",
      " [0 4 0 0]\n",
      " [0 0 2 0]\n",
      " [0 0 0 2]]\n",
      "\n",
      "\n",
      "             precision    recall  f1-score   support\n",
      "\n",
      "          1       1.00      1.00      1.00         3\n",
      "          2       1.00      1.00      1.00         4\n",
      "          3       1.00      1.00      1.00         2\n",
      "          4       1.00      1.00      1.00         2\n",
      "\n",
      "avg / total       1.00      1.00      1.00        11\n",
      "\n"
     ]
    }
   ],
   "source": [
    "# FIRST A QUICK COMPARISON TO OUR ORIGINAL K=1\n",
    "knn = KNeighborsClassifier(n_neighbors=1)\n",
    "\n",
    "knn.fit(X_train,y_train)\n",
    "pred = knn.predict(X_test)\n",
    "\n",
    "print('WITH K=1')\n",
    "print('\\n')\n",
    "print(confusion_matrix(y_test,pred))\n",
    "print('\\n')\n",
    "print(classification_report(y_test,pred))"
   ]
  },
  {
   "cell_type": "code",
   "execution_count": 71,
   "metadata": {},
   "outputs": [
    {
     "name": "stdout",
     "output_type": "stream",
     "text": [
      "WITH K=23\n",
      "\n",
      "\n",
      "[[0 0 3 0]\n",
      " [1 0 3 0]\n",
      " [0 0 2 0]\n",
      " [0 0 2 0]]\n",
      "\n",
      "\n",
      "             precision    recall  f1-score   support\n",
      "\n",
      "          1       0.00      0.00      0.00         3\n",
      "          2       0.00      0.00      0.00         4\n",
      "          3       0.20      1.00      0.33         2\n",
      "          4       0.00      0.00      0.00         2\n",
      "\n",
      "avg / total       0.04      0.18      0.06        11\n",
      "\n"
     ]
    },
    {
     "name": "stderr",
     "output_type": "stream",
     "text": [
      "/Users/jorgemauricio/anaconda/lib/python3.6/site-packages/sklearn/metrics/classification.py:1135: UndefinedMetricWarning: Precision and F-score are ill-defined and being set to 0.0 in labels with no predicted samples.\n",
      "  'precision', 'predicted', average, warn_for)\n"
     ]
    }
   ],
   "source": [
    "# NOW WITH K=23\n",
    "knn = KNeighborsClassifier(n_neighbors=23)\n",
    "\n",
    "knn.fit(X_train,y_train)\n",
    "pred = knn.predict(X_test)\n",
    "\n",
    "print('WITH K=23')\n",
    "print('\\n')\n",
    "print(confusion_matrix(y_test,pred))\n",
    "print('\\n')\n",
    "print(classification_report(y_test,pred))"
   ]
  },
  {
   "cell_type": "code",
   "execution_count": null,
   "metadata": {
    "collapsed": true
   },
   "outputs": [],
   "source": []
  },
  {
   "cell_type": "code",
   "execution_count": null,
   "metadata": {
    "collapsed": true
   },
   "outputs": [],
   "source": []
  },
  {
   "cell_type": "code",
   "execution_count": 36,
   "metadata": {},
   "outputs": [
    {
     "data": {
      "text/plain": [
       "dict_keys(['data', 'target', 'target_names', 'DESCR', 'feature_names'])"
      ]
     },
     "execution_count": 36,
     "metadata": {},
     "output_type": "execute_result"
    }
   ],
   "source": [
    "from sklearn.datasets import load_breast_cancer\n",
    "cancer = load_breast_cancer()\n",
    "cancer.keys()"
   ]
  },
  {
   "cell_type": "code",
   "execution_count": 38,
   "metadata": {},
   "outputs": [
    {
     "data": {
      "text/plain": [
       "array(['malignant', 'benign'],\n",
       "      dtype='<U9')"
      ]
     },
     "execution_count": 38,
     "metadata": {},
     "output_type": "execute_result"
    }
   ],
   "source": [
    "cancer['target_names']"
   ]
  },
  {
   "cell_type": "code",
   "execution_count": null,
   "metadata": {
    "collapsed": true
   },
   "outputs": [],
   "source": []
  },
  {
   "cell_type": "code",
   "execution_count": null,
   "metadata": {
    "collapsed": true
   },
   "outputs": [],
   "source": []
  },
  {
   "cell_type": "code",
   "execution_count": null,
   "metadata": {
    "collapsed": true
   },
   "outputs": [],
   "source": []
  },
  {
   "cell_type": "code",
   "execution_count": 21,
   "metadata": {},
   "outputs": [
    {
     "name": "stdout",
     "output_type": "stream",
     "text": [
      "<class 'pandas.core.frame.DataFrame'>\n",
      "RangeIndex: 36 entries, 0 to 35\n",
      "Data columns (total 7 columns):\n",
      "Muestra              36 non-null object\n",
      "Humedad %            36 non-null float64\n",
      "Azucares %           36 non-null float64\n",
      "Extracto etereo %    36 non-null float64\n",
      "Fibra %              36 non-null float64\n",
      "Proteína %           36 non-null float64\n",
      "Ceniza %             36 non-null float64\n",
      "dtypes: float64(6), object(1)\n",
      "memory usage: 2.0+ KB\n"
     ]
    }
   ],
   "source": [
    "# converting categorical features\n",
    "df.info()"
   ]
  },
  {
   "cell_type": "code",
   "execution_count": 22,
   "metadata": {
    "collapsed": true
   },
   "outputs": [],
   "source": [
    "muestra = pd.get_dummies(df['Muestra'],drop_first=True)"
   ]
  },
  {
   "cell_type": "code",
   "execution_count": 24,
   "metadata": {},
   "outputs": [],
   "source": [
    "df.drop(\"Muestra\", axis=1, inplace=True)"
   ]
  },
  {
   "cell_type": "code",
   "execution_count": 26,
   "metadata": {},
   "outputs": [],
   "source": [
    "df = pd.concat([df, muestra], axis=1)"
   ]
  },
  {
   "cell_type": "code",
   "execution_count": 27,
   "metadata": {},
   "outputs": [
    {
     "data": {
      "text/html": [
       "<div>\n",
       "<style>\n",
       "    .dataframe thead tr:only-child th {\n",
       "        text-align: right;\n",
       "    }\n",
       "\n",
       "    .dataframe thead th {\n",
       "        text-align: left;\n",
       "    }\n",
       "\n",
       "    .dataframe tbody tr th {\n",
       "        vertical-align: top;\n",
       "    }\n",
       "</style>\n",
       "<table border=\"1\" class=\"dataframe\">\n",
       "  <thead>\n",
       "    <tr style=\"text-align: right;\">\n",
       "      <th></th>\n",
       "      <th>Humedad %</th>\n",
       "      <th>Azucares %</th>\n",
       "      <th>Extracto etereo %</th>\n",
       "      <th>Fibra %</th>\n",
       "      <th>Proteína %</th>\n",
       "      <th>Ceniza %</th>\n",
       "      <th>PaLIO80</th>\n",
       "      <th>PaSAC50</th>\n",
       "      <th>PaSAC80</th>\n",
       "    </tr>\n",
       "  </thead>\n",
       "  <tbody>\n",
       "    <tr>\n",
       "      <th>0</th>\n",
       "      <td>8.171828</td>\n",
       "      <td>10.844601</td>\n",
       "      <td>1.875403</td>\n",
       "      <td>22.001089</td>\n",
       "      <td>16.030</td>\n",
       "      <td>6.879787</td>\n",
       "      <td>0</td>\n",
       "      <td>1</td>\n",
       "      <td>0</td>\n",
       "    </tr>\n",
       "    <tr>\n",
       "      <th>1</th>\n",
       "      <td>8.047318</td>\n",
       "      <td>12.782585</td>\n",
       "      <td>1.872500</td>\n",
       "      <td>21.374351</td>\n",
       "      <td>16.156</td>\n",
       "      <td>7.010996</td>\n",
       "      <td>0</td>\n",
       "      <td>1</td>\n",
       "      <td>0</td>\n",
       "    </tr>\n",
       "    <tr>\n",
       "      <th>2</th>\n",
       "      <td>7.983207</td>\n",
       "      <td>13.015447</td>\n",
       "      <td>1.877934</td>\n",
       "      <td>22.001089</td>\n",
       "      <td>16.056</td>\n",
       "      <td>6.940326</td>\n",
       "      <td>0</td>\n",
       "      <td>1</td>\n",
       "      <td>0</td>\n",
       "    </tr>\n",
       "    <tr>\n",
       "      <th>3</th>\n",
       "      <td>8.071828</td>\n",
       "      <td>11.947515</td>\n",
       "      <td>1.876403</td>\n",
       "      <td>21.743508</td>\n",
       "      <td>16.030</td>\n",
       "      <td>6.979787</td>\n",
       "      <td>0</td>\n",
       "      <td>1</td>\n",
       "      <td>0</td>\n",
       "    </tr>\n",
       "    <tr>\n",
       "      <th>4</th>\n",
       "      <td>8.097318</td>\n",
       "      <td>11.933919</td>\n",
       "      <td>1.873500</td>\n",
       "      <td>21.901089</td>\n",
       "      <td>16.086</td>\n",
       "      <td>7.000996</td>\n",
       "      <td>0</td>\n",
       "      <td>1</td>\n",
       "      <td>0</td>\n",
       "    </tr>\n",
       "  </tbody>\n",
       "</table>\n",
       "</div>"
      ],
      "text/plain": [
       "   Humedad %  Azucares %  Extracto etereo %    Fibra %  Proteína %  Ceniza %  \\\n",
       "0   8.171828   10.844601           1.875403  22.001089      16.030  6.879787   \n",
       "1   8.047318   12.782585           1.872500  21.374351      16.156  7.010996   \n",
       "2   7.983207   13.015447           1.877934  22.001089      16.056  6.940326   \n",
       "3   8.071828   11.947515           1.876403  21.743508      16.030  6.979787   \n",
       "4   8.097318   11.933919           1.873500  21.901089      16.086  7.000996   \n",
       "\n",
       "   PaLIO80  PaSAC50  PaSAC80  \n",
       "0        0        1        0  \n",
       "1        0        1        0  \n",
       "2        0        1        0  \n",
       "3        0        1        0  \n",
       "4        0        1        0  "
      ]
     },
     "execution_count": 27,
     "metadata": {},
     "output_type": "execute_result"
    }
   ],
   "source": [
    "df.head()"
   ]
  },
  {
   "cell_type": "code",
   "execution_count": 59,
   "metadata": {
    "collapsed": true
   },
   "outputs": [],
   "source": [
    "# K Nearest Neighbors"
   ]
  },
  {
   "cell_type": "code",
   "execution_count": null,
   "metadata": {
    "collapsed": true
   },
   "outputs": [],
   "source": [
    "from sklearn.model_selection import train_test_split\n",
    "X_train, X_test, y_train, y_test = train_test_split(scaled_features,df['TARGET CLASS'],\n",
    "                                                    test_size=0.30)"
   ]
  },
  {
   "cell_type": "code",
   "execution_count": null,
   "metadata": {
    "collapsed": true
   },
   "outputs": [],
   "source": []
  },
  {
   "cell_type": "code",
   "execution_count": null,
   "metadata": {
    "collapsed": true
   },
   "outputs": [],
   "source": [
    "# Building a Logistic Regression model"
   ]
  },
  {
   "cell_type": "code",
   "execution_count": null,
   "metadata": {
    "collapsed": true
   },
   "outputs": [],
   "source": [
    "from sklearn.model_selection import train_test_split\n",
    "X_train, X_test, y_train, y_test = train_test_split(train.drop('Survived',axis=1), \n",
    "                                                    train['Survived'], test_size=0.30, \n",
    "                                                    random_state=101)"
   ]
  },
  {
   "cell_type": "code",
   "execution_count": null,
   "metadata": {
    "collapsed": true
   },
   "outputs": [],
   "source": []
  },
  {
   "cell_type": "code",
   "execution_count": null,
   "metadata": {
    "collapsed": true
   },
   "outputs": [],
   "source": []
  },
  {
   "cell_type": "code",
   "execution_count": null,
   "metadata": {
    "collapsed": true
   },
   "outputs": [],
   "source": []
  },
  {
   "cell_type": "code",
   "execution_count": null,
   "metadata": {},
   "outputs": [],
   "source": [
    "#improt the data\n",
    "X = pd.read_csv(\"data/papaya_bromatologicos.csv\")\n",
    "y = X.pop(\"Muestra\")"
   ]
  },
  {
   "cell_type": "code",
   "execution_count": null,
   "metadata": {},
   "outputs": [],
   "source": [
    "# estructura del df\n",
    "X.describe()"
   ]
  },
  {
   "cell_type": "code",
   "execution_count": null,
   "metadata": {},
   "outputs": [],
   "source": [
    "# get just the numeric variables by selecting only the variables that are not \"object\" datatypes\n",
    "numeric_variables = list(X.dtypes[X.dtypes != \"object\"].index)\n",
    "X[numeric_variables].head()"
   ]
  },
  {
   "cell_type": "code",
   "execution_count": null,
   "metadata": {},
   "outputs": [],
   "source": [
    "# letś build our first model. I always have oob_score=True. It is a good idea to increase n_estimators\n",
    "#  to a number higher than the defaul. in this case the oob_predictions will be based on a forest of 33 trees.\n",
    "# I set random_state=42 so that you all could replicate the model exactly\n",
    "model = RandomForestRegressor(n_estimators=100, oob_score=True, random_state=0)\n",
    "\n",
    "# I only use numeric_variables because I have yet to dummy out the categorical variables\n",
    "model.fit(X[numeric_variables], y)"
   ]
  },
  {
   "cell_type": "code",
   "execution_count": null,
   "metadata": {
    "collapsed": true
   },
   "outputs": [],
   "source": []
  }
 ],
 "metadata": {
  "kernelspec": {
   "display_name": "Python 3",
   "language": "python",
   "name": "python3"
  },
  "language_info": {
   "codemirror_mode": {
    "name": "ipython",
    "version": 3
   },
   "file_extension": ".py",
   "mimetype": "text/x-python",
   "name": "python",
   "nbconvert_exporter": "python",
   "pygments_lexer": "ipython3",
   "version": "3.6.4"
  }
 },
 "nbformat": 4,
 "nbformat_minor": 2
}
