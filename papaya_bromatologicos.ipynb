{
 "cells": [
  {
   "cell_type": "markdown",
   "metadata": {},
   "source": [
    "### Análisis de componentes\n",
    "### Introducción a Python\n",
    "### GitHub repository: https://github.com/jorgemauricio/analisis_componentes\n",
    "### Instructor: Jorge Mauricio"
   ]
  },
  {
   "cell_type": "code",
   "execution_count": 73,
   "metadata": {},
   "outputs": [],
   "source": [
    "# librerías\n",
    "import pandas as pd\n",
    "import numpy as np\n",
    "import matplotlib.pyplot as plt\n",
    "import seaborn as sns\n",
    "\n",
    "# librerías\n",
    "from sklearn.ensemble import RandomForestRegressor\n",
    "\n",
    "# The error metric, In this cas, we will use c-stat (aka ROC/AUC)\n",
    "from sklearn.metrics import roc_auc_score\n",
    "\n",
    "# an efficient data structure\n",
    "import pandas as pd\n",
    "\n",
    "%matplotlib inline"
   ]
  },
  {
   "cell_type": "code",
   "execution_count": 74,
   "metadata": {},
   "outputs": [],
   "source": [
    "# leer csv\n",
    "df = pd.read_csv(\"data/PAPAYA_BROMATOLOGICOS.csv\")"
   ]
  },
  {
   "cell_type": "code",
   "execution_count": 75,
   "metadata": {},
   "outputs": [
    {
     "data": {
      "text/html": [
       "<div>\n",
       "<style scoped>\n",
       "    .dataframe tbody tr th:only-of-type {\n",
       "        vertical-align: middle;\n",
       "    }\n",
       "\n",
       "    .dataframe tbody tr th {\n",
       "        vertical-align: top;\n",
       "    }\n",
       "\n",
       "    .dataframe thead th {\n",
       "        text-align: right;\n",
       "    }\n",
       "</style>\n",
       "<table border=\"1\" class=\"dataframe\">\n",
       "  <thead>\n",
       "    <tr style=\"text-align: right;\">\n",
       "      <th></th>\n",
       "      <th>MUESTRA</th>\n",
       "      <th>HUMEDAD</th>\n",
       "      <th>AZUCARES</th>\n",
       "      <th>ETEREO</th>\n",
       "      <th>FIBRA</th>\n",
       "      <th>PROTEINA</th>\n",
       "      <th>CENIZA</th>\n",
       "    </tr>\n",
       "  </thead>\n",
       "  <tbody>\n",
       "    <tr>\n",
       "      <th>0</th>\n",
       "      <td>PaSAC50</td>\n",
       "      <td>8.171828</td>\n",
       "      <td>10.844601</td>\n",
       "      <td>1.875403</td>\n",
       "      <td>22.001089</td>\n",
       "      <td>16.030</td>\n",
       "      <td>6.879787</td>\n",
       "    </tr>\n",
       "    <tr>\n",
       "      <th>1</th>\n",
       "      <td>PaSAC50</td>\n",
       "      <td>8.047318</td>\n",
       "      <td>12.782585</td>\n",
       "      <td>1.872500</td>\n",
       "      <td>21.374351</td>\n",
       "      <td>16.156</td>\n",
       "      <td>7.010996</td>\n",
       "    </tr>\n",
       "    <tr>\n",
       "      <th>2</th>\n",
       "      <td>PaSAC50</td>\n",
       "      <td>7.983207</td>\n",
       "      <td>13.015447</td>\n",
       "      <td>1.877934</td>\n",
       "      <td>22.001089</td>\n",
       "      <td>16.056</td>\n",
       "      <td>6.940326</td>\n",
       "    </tr>\n",
       "    <tr>\n",
       "      <th>3</th>\n",
       "      <td>PaSAC50</td>\n",
       "      <td>8.071828</td>\n",
       "      <td>11.947515</td>\n",
       "      <td>1.876403</td>\n",
       "      <td>21.743508</td>\n",
       "      <td>16.030</td>\n",
       "      <td>6.979787</td>\n",
       "    </tr>\n",
       "    <tr>\n",
       "      <th>4</th>\n",
       "      <td>PaSAC50</td>\n",
       "      <td>8.097318</td>\n",
       "      <td>11.933919</td>\n",
       "      <td>1.873500</td>\n",
       "      <td>21.901089</td>\n",
       "      <td>16.086</td>\n",
       "      <td>7.000996</td>\n",
       "    </tr>\n",
       "  </tbody>\n",
       "</table>\n",
       "</div>"
      ],
      "text/plain": [
       "   MUESTRA   HUMEDAD   AZUCARES    ETEREO      FIBRA  PROTEINA    CENIZA\n",
       "0  PaSAC50  8.171828  10.844601  1.875403  22.001089    16.030  6.879787\n",
       "1  PaSAC50  8.047318  12.782585  1.872500  21.374351    16.156  7.010996\n",
       "2  PaSAC50  7.983207  13.015447  1.877934  22.001089    16.056  6.940326\n",
       "3  PaSAC50  8.071828  11.947515  1.876403  21.743508    16.030  6.979787\n",
       "4  PaSAC50  8.097318  11.933919  1.873500  21.901089    16.086  7.000996"
      ]
     },
     "execution_count": 75,
     "metadata": {},
     "output_type": "execute_result"
    }
   ],
   "source": [
    "# estructura del csv\n",
    "df.head()"
   ]
  },
  {
   "cell_type": "code",
   "execution_count": 76,
   "metadata": {},
   "outputs": [
    {
     "data": {
      "text/plain": [
       "array(['PaSAC50', 'PaSAC80', 'PaLIO50', 'PaLIO80'], dtype=object)"
      ]
     },
     "execution_count": 76,
     "metadata": {},
     "output_type": "execute_result"
    }
   ],
   "source": [
    "df.MUESTRA.unique()"
   ]
  },
  {
   "cell_type": "code",
   "execution_count": 77,
   "metadata": {},
   "outputs": [
    {
     "data": {
      "text/plain": [
       "<seaborn.axisgrid.PairGrid at 0x14d7831e8630>"
      ]
     },
     "execution_count": 77,
     "metadata": {},
     "output_type": "execute_result"
    },
    {
     "data": {
      "image/png": "[encoded data removed]",
      "text/plain": [
       "<Figure size 1160.75x1080 with 42 Axes>"
      ]
     },
     "metadata": {},
     "output_type": "display_data"
    }
   ],
   "source": [
    "# EDA (Exploratory Data Analysis) correlación entre variables\n",
    "sns.pairplot(df,hue='MUESTRA',palette='Set1')"
   ]
  },
  {
   "cell_type": "code",
   "execution_count": 78,
   "metadata": {},
   "outputs": [],
   "source": [
    "# dividir los datos en entrenamiento y prueba para evitar que el modelo se sobrealimente\n",
    "# Train Test Split\n",
    "from sklearn.model_selection import train_test_split\n",
    "X = df.drop('MUESTRA',axis=1)\n",
    "y = df['MUESTRA']\n",
    "X_train, X_test, y_train, y_test = train_test_split(X, y, test_size=0.30)"
   ]
  },
  {
   "cell_type": "code",
   "execution_count": 79,
   "metadata": {},
   "outputs": [
    {
     "data": {
      "text/plain": [
       "DecisionTreeClassifier(class_weight=None, criterion='gini', max_depth=None,\n",
       "            max_features=None, max_leaf_nodes=None,\n",
       "            min_impurity_decrease=0.0, min_impurity_split=None,\n",
       "            min_samples_leaf=1, min_samples_split=2,\n",
       "            min_weight_fraction_leaf=0.0, presort=False, random_state=None,\n",
       "            splitter='best')"
      ]
     },
     "execution_count": 79,
     "metadata": {},
     "output_type": "execute_result"
    }
   ],
   "source": [
    "# UTILIZAMOS UN ARBOL DE DECISIONES PARA DETERMINAR COMO ES QUE SE CLASIFICAN LOS COMPUESTOS DE ACUERDO\n",
    "# A SUS CUALIDADES\n",
    "#Decision Trees\n",
    "from sklearn.tree import DecisionTreeClassifier\n",
    "dtree = DecisionTreeClassifier()\n",
    "dtree.fit(X_train,y_train)"
   ]
  },
  {
   "cell_type": "code",
   "execution_count": 80,
   "metadata": {},
   "outputs": [],
   "source": [
    "# prediction and evaluation\n",
    "predictions = dtree.predict(X_test)"
   ]
  },
  {
   "cell_type": "code",
   "execution_count": 81,
   "metadata": {},
   "outputs": [
    {
     "name": "stdout",
     "output_type": "stream",
     "text": [
      "             precision    recall  f1-score   support\n",
      "\n",
      "    PaLIO50       1.00      1.00      1.00         4\n",
      "    PaLIO80       1.00      1.00      1.00         2\n",
      "    PaSAC50       1.00      1.00      1.00         2\n",
      "    PaSAC80       1.00      1.00      1.00         3\n",
      "\n",
      "avg / total       1.00      1.00      1.00        11\n",
      "\n"
     ]
    }
   ],
   "source": [
    "from sklearn.metrics import classification_report,confusion_matrix\n",
    "print(classification_report(y_test,predictions))"
   ]
  },
  {
   "cell_type": "code",
   "execution_count": 82,
   "metadata": {},
   "outputs": [
    {
     "name": "stdout",
     "output_type": "stream",
     "text": [
      "[[4 0 0 0]\n",
      " [0 2 0 0]\n",
      " [0 0 2 0]\n",
      " [0 0 0 3]]\n"
     ]
    }
   ],
   "source": [
    "print(confusion_matrix(y_test,predictions))"
   ]
  },
  {
   "cell_type": "code",
   "execution_count": 83,
   "metadata": {},
   "outputs": [
    {
     "data": {
      "text/plain": [
       "['HUMEDAD', 'AZUCARES', 'ETEREO', 'FIBRA', 'PROTEINA', 'CENIZA']"
      ]
     },
     "execution_count": 83,
     "metadata": {},
     "output_type": "execute_result"
    }
   ],
   "source": [
    "# Tree Visualization\n",
    "from IPython.display import Image  \n",
    "from sklearn.externals.six import StringIO  \n",
    "from sklearn.tree import export_graphviz\n",
    "import pydot \n",
    "\n",
    "features = list(df.columns[1:])\n",
    "features"
   ]
  },
  {
   "cell_type": "code",
   "execution_count": 84,
   "metadata": {},
   "outputs": [
    {
     "data": {
      "image/png": "[encoded data removed]",
      "text/plain": [
       "<IPython.core.display.Image object>"
      ]
     },
     "execution_count": 84,
     "metadata": {},
     "output_type": "execute_result"
    }
   ],
   "source": [
    "dot_data = StringIO()  \n",
    "export_graphviz(dtree, out_file=dot_data,feature_names=features,filled=True,rounded=True)\n",
    "\n",
    "graph = pydot.graph_from_dot_data(dot_data.getvalue())  \n",
    "Image(graph[0].create_png()) "
   ]
  },
  {
   "cell_type": "code",
   "execution_count": 85,
   "metadata": {},
   "outputs": [
    {
     "data": {
      "text/plain": [
       "RandomForestClassifier(bootstrap=True, class_weight=None, criterion='gini',\n",
       "            max_depth=None, max_features='auto', max_leaf_nodes=None,\n",
       "            min_impurity_decrease=0.0, min_impurity_split=None,\n",
       "            min_samples_leaf=1, min_samples_split=2,\n",
       "            min_weight_fraction_leaf=0.0, n_estimators=100, n_jobs=1,\n",
       "            oob_score=False, random_state=None, verbose=0,\n",
       "            warm_start=False)"
      ]
     },
     "execution_count": 85,
     "metadata": {},
     "output_type": "execute_result"
    }
   ],
   "source": [
    "# random forests\n",
    "from sklearn.ensemble import RandomForestClassifier\n",
    "rfc = RandomForestClassifier(n_estimators=100)\n",
    "rfc.fit(X_train, y_train)"
   ]
  },
  {
   "cell_type": "code",
   "execution_count": 86,
   "metadata": {},
   "outputs": [
    {
     "name": "stdout",
     "output_type": "stream",
     "text": [
      "[[4 0 0 0]\n",
      " [0 2 0 0]\n",
      " [0 0 2 0]\n",
      " [0 0 0 3]]\n"
     ]
    }
   ],
   "source": [
    "rfc_pred = rfc.predict(X_test)\n",
    "print(confusion_matrix(y_test,rfc_pred))"
   ]
  },
  {
   "cell_type": "code",
   "execution_count": 87,
   "metadata": {},
   "outputs": [
    {
     "name": "stdout",
     "output_type": "stream",
     "text": [
      "             precision    recall  f1-score   support\n",
      "\n",
      "    PaLIO50       1.00      1.00      1.00         4\n",
      "    PaLIO80       1.00      1.00      1.00         2\n",
      "    PaSAC50       1.00      1.00      1.00         2\n",
      "    PaSAC80       1.00      1.00      1.00         3\n",
      "\n",
      "avg / total       1.00      1.00      1.00        11\n",
      "\n"
     ]
    }
   ],
   "source": [
    "print(classification_report(y_test,rfc_pred))"
   ]
  },
  {
   "cell_type": "code",
   "execution_count": 88,
   "metadata": {},
   "outputs": [],
   "source": [
    "# PCA\n",
    "from sklearn.preprocessing import StandardScaler"
   ]
  },
  {
   "cell_type": "code",
   "execution_count": 89,
   "metadata": {},
   "outputs": [],
   "source": [
    "X = df.drop(\"MUESTRA\", axis=1)"
   ]
  },
  {
   "cell_type": "code",
   "execution_count": 90,
   "metadata": {},
   "outputs": [],
   "source": [
    "from sklearn.preprocessing import StandardScaler"
   ]
  },
  {
   "cell_type": "code",
   "execution_count": 91,
   "metadata": {},
   "outputs": [
    {
     "data": {
      "text/plain": [
       "StandardScaler(copy=True, with_mean=True, with_std=True)"
      ]
     },
     "execution_count": 91,
     "metadata": {},
     "output_type": "execute_result"
    }
   ],
   "source": [
    "scaler = StandardScaler()\n",
    "scaler.fit(X)"
   ]
  },
  {
   "cell_type": "code",
   "execution_count": 92,
   "metadata": {},
   "outputs": [],
   "source": [
    "scaled_data = scaler.transform(X)"
   ]
  },
  {
   "cell_type": "code",
   "execution_count": 93,
   "metadata": {},
   "outputs": [
    {
     "data": {
      "text/plain": [
       "PCA(copy=True, iterated_power='auto', n_components=2, random_state=None,\n",
       "  svd_solver='auto', tol=0.0, whiten=False)"
      ]
     },
     "execution_count": 93,
     "metadata": {},
     "output_type": "execute_result"
    }
   ],
   "source": [
    "from sklearn.decomposition import PCA\n",
    "pca = PCA(n_components=2)\n",
    "pca.fit(scaled_data)"
   ]
  },
  {
   "cell_type": "code",
   "execution_count": 94,
   "metadata": {},
   "outputs": [],
   "source": [
    "x_pca = pca.transform(scaled_data)"
   ]
  },
  {
   "cell_type": "code",
   "execution_count": 95,
   "metadata": {},
   "outputs": [
    {
     "data": {
      "text/plain": [
       "(36, 6)"
      ]
     },
     "execution_count": 95,
     "metadata": {},
     "output_type": "execute_result"
    }
   ],
   "source": [
    "scaled_data.shape"
   ]
  },
  {
   "cell_type": "code",
   "execution_count": 96,
   "metadata": {},
   "outputs": [
    {
     "data": {
      "text/plain": [
       "(36, 2)"
      ]
     },
     "execution_count": 96,
     "metadata": {},
     "output_type": "execute_result"
    }
   ],
   "source": [
    "x_pca.shape"
   ]
  },
  {
   "cell_type": "code",
   "execution_count": 97,
   "metadata": {},
   "outputs": [
    {
     "data": {
      "text/html": [
       "<div>\n",
       "<style scoped>\n",
       "    .dataframe tbody tr th:only-of-type {\n",
       "        vertical-align: middle;\n",
       "    }\n",
       "\n",
       "    .dataframe tbody tr th {\n",
       "        vertical-align: top;\n",
       "    }\n",
       "\n",
       "    .dataframe thead th {\n",
       "        text-align: right;\n",
       "    }\n",
       "</style>\n",
       "<table border=\"1\" class=\"dataframe\">\n",
       "  <thead>\n",
       "    <tr style=\"text-align: right;\">\n",
       "      <th></th>\n",
       "      <th>HUMEDAD</th>\n",
       "      <th>AZUCARES</th>\n",
       "      <th>ETEREO</th>\n",
       "      <th>FIBRA</th>\n",
       "      <th>PROTEINA</th>\n",
       "      <th>CENIZA</th>\n",
       "    </tr>\n",
       "  </thead>\n",
       "  <tbody>\n",
       "    <tr>\n",
       "      <th>0</th>\n",
       "      <td>8.171828</td>\n",
       "      <td>10.844601</td>\n",
       "      <td>1.875403</td>\n",
       "      <td>22.001089</td>\n",
       "      <td>16.030</td>\n",
       "      <td>6.879787</td>\n",
       "    </tr>\n",
       "    <tr>\n",
       "      <th>1</th>\n",
       "      <td>8.047318</td>\n",
       "      <td>12.782585</td>\n",
       "      <td>1.872500</td>\n",
       "      <td>21.374351</td>\n",
       "      <td>16.156</td>\n",
       "      <td>7.010996</td>\n",
       "    </tr>\n",
       "    <tr>\n",
       "      <th>2</th>\n",
       "      <td>7.983207</td>\n",
       "      <td>13.015447</td>\n",
       "      <td>1.877934</td>\n",
       "      <td>22.001089</td>\n",
       "      <td>16.056</td>\n",
       "      <td>6.940326</td>\n",
       "    </tr>\n",
       "    <tr>\n",
       "      <th>3</th>\n",
       "      <td>8.071828</td>\n",
       "      <td>11.947515</td>\n",
       "      <td>1.876403</td>\n",
       "      <td>21.743508</td>\n",
       "      <td>16.030</td>\n",
       "      <td>6.979787</td>\n",
       "    </tr>\n",
       "    <tr>\n",
       "      <th>4</th>\n",
       "      <td>8.097318</td>\n",
       "      <td>11.933919</td>\n",
       "      <td>1.873500</td>\n",
       "      <td>21.901089</td>\n",
       "      <td>16.086</td>\n",
       "      <td>7.000996</td>\n",
       "    </tr>\n",
       "  </tbody>\n",
       "</table>\n",
       "</div>"
      ],
      "text/plain": [
       "    HUMEDAD   AZUCARES    ETEREO      FIBRA  PROTEINA    CENIZA\n",
       "0  8.171828  10.844601  1.875403  22.001089    16.030  6.879787\n",
       "1  8.047318  12.782585  1.872500  21.374351    16.156  7.010996\n",
       "2  7.983207  13.015447  1.877934  22.001089    16.056  6.940326\n",
       "3  8.071828  11.947515  1.876403  21.743508    16.030  6.979787\n",
       "4  8.097318  11.933919  1.873500  21.901089    16.086  7.000996"
      ]
     },
     "execution_count": 97,
     "metadata": {},
     "output_type": "execute_result"
    }
   ],
   "source": [
    "X.head()"
   ]
  },
  {
   "cell_type": "code",
   "execution_count": 98,
   "metadata": {},
   "outputs": [],
   "source": [
    "def generar_indice(elemento):\n",
    "    if elemento == \"PaSAC50\":\n",
    "        return 1\n",
    "    if elemento == \"PaSAC80\":\n",
    "        return 2\n",
    "    if elemento == \"PaLIO50\":\n",
    "        return 3\n",
    "    if elemento == \"PaLIO80\":\n",
    "        return 4"
   ]
  },
  {
   "cell_type": "code",
   "execution_count": 99,
   "metadata": {},
   "outputs": [],
   "source": [
    "y_dummies = list(map(generar_indice,y))"
   ]
  },
  {
   "cell_type": "code",
   "execution_count": 100,
   "metadata": {},
   "outputs": [
    {
     "data": {
      "text/plain": [
       "Text(0,0.5,'Second Principal Component')"
      ]
     },
     "execution_count": 100,
     "metadata": {},
     "output_type": "execute_result"
    },
    {
     "data": {
      "image/png": "[encoded data removed]",
      "text/plain": [
       "<Figure size 576x432 with 1 Axes>"
      ]
     },
     "metadata": {},
     "output_type": "display_data"
    }
   ],
   "source": [
    "plt.figure(figsize=(8,6))\n",
    "plt.scatter(x_pca[:,0],x_pca[:,1],c=y_dummies,cmap='plasma')\n",
    "plt.xlabel('First principal component')\n",
    "plt.ylabel('Second Principal Component')"
   ]
  },
  {
   "cell_type": "code",
   "execution_count": 101,
   "metadata": {},
   "outputs": [
    {
     "data": {
      "text/plain": [
       "array([[-0.47127516,  0.413324  , -0.34569398, -0.46058078, -0.31511255,\n",
       "        -0.41967616],\n",
       "       [ 0.13324879,  0.14738688, -0.60036773,  0.21187538,  0.69628881,\n",
       "        -0.26527565]])"
      ]
     },
     "execution_count": 101,
     "metadata": {},
     "output_type": "execute_result"
    }
   ],
   "source": [
    "# interpreting the components\n",
    "pca.components_"
   ]
  },
  {
   "cell_type": "code",
   "execution_count": 102,
   "metadata": {},
   "outputs": [],
   "source": [
    "df_comp = pd.DataFrame(pca.components_,columns=X.columns)"
   ]
  },
  {
   "cell_type": "code",
   "execution_count": 103,
   "metadata": {},
   "outputs": [
    {
     "data": {
      "text/plain": [
       "<matplotlib.axes._subplots.AxesSubplot at 0x14d7813c3f60>"
      ]
     },
     "execution_count": 103,
     "metadata": {},
     "output_type": "execute_result"
    },
    {
     "data": {
      "image/png": "[encoded data removed]",
      "text/plain": [
       "<Figure size 864x432 with 2 Axes>"
      ]
     },
     "metadata": {},
     "output_type": "display_data"
    }
   ],
   "source": [
    "plt.figure(figsize=(12,6))\n",
    "sns.heatmap(df_comp,cmap='plasma',)"
   ]
  },
  {
   "cell_type": "code",
   "execution_count": 104,
   "metadata": {},
   "outputs": [],
   "source": [
    "# K Nearest Neighbors\n",
    "from sklearn.model_selection import train_test_split\n",
    "X_train, X_test, y_train, y_test = train_test_split(scaled_data,y_dummies,\n",
    "                                                    test_size=0.30)"
   ]
  },
  {
   "cell_type": "code",
   "execution_count": 105,
   "metadata": {},
   "outputs": [],
   "source": [
    "# using KNN"
   ]
  },
  {
   "cell_type": "code",
   "execution_count": 106,
   "metadata": {},
   "outputs": [
    {
     "data": {
      "text/plain": [
       "KNeighborsClassifier(algorithm='auto', leaf_size=30, metric='minkowski',\n",
       "           metric_params=None, n_jobs=1, n_neighbors=1, p=2,\n",
       "           weights='uniform')"
      ]
     },
     "execution_count": 106,
     "metadata": {},
     "output_type": "execute_result"
    }
   ],
   "source": [
    "from sklearn.neighbors import KNeighborsClassifier\n",
    "knn = KNeighborsClassifier(n_neighbors=1)\n",
    "knn.fit(X_train,y_train)"
   ]
  },
  {
   "cell_type": "code",
   "execution_count": 107,
   "metadata": {},
   "outputs": [],
   "source": [
    "pred = knn.predict(X_test)"
   ]
  },
  {
   "cell_type": "code",
   "execution_count": 108,
   "metadata": {},
   "outputs": [],
   "source": [
    "from sklearn.metrics import classification_report,confusion_matrix"
   ]
  },
  {
   "cell_type": "code",
   "execution_count": 109,
   "metadata": {},
   "outputs": [
    {
     "name": "stdout",
     "output_type": "stream",
     "text": [
      "[[2 0 0 0]\n",
      " [0 4 0 0]\n",
      " [0 0 2 0]\n",
      " [0 0 0 3]]\n"
     ]
    }
   ],
   "source": [
    "print(confusion_matrix(y_test,pred))"
   ]
  },
  {
   "cell_type": "code",
   "execution_count": 110,
   "metadata": {},
   "outputs": [
    {
     "name": "stdout",
     "output_type": "stream",
     "text": [
      "             precision    recall  f1-score   support\n",
      "\n",
      "          1       1.00      1.00      1.00         2\n",
      "          2       1.00      1.00      1.00         4\n",
      "          3       1.00      1.00      1.00         2\n",
      "          4       1.00      1.00      1.00         3\n",
      "\n",
      "avg / total       1.00      1.00      1.00        11\n",
      "\n"
     ]
    }
   ],
   "source": [
    "print(classification_report(y_test,pred))"
   ]
  },
  {
   "cell_type": "code",
   "execution_count": 111,
   "metadata": {},
   "outputs": [],
   "source": [
    "# choosing a K Value\n",
    "error_rate = []\n",
    "\n",
    "# Will take some time\n",
    "for i in range(1,25):\n",
    "    \n",
    "    knn = KNeighborsClassifier(n_neighbors=i)\n",
    "    knn.fit(X_train,y_train)\n",
    "    pred_i = knn.predict(X_test)\n",
    "    error_rate.append(np.mean(pred_i != y_test))"
   ]
  },
  {
   "cell_type": "code",
   "execution_count": 112,
   "metadata": {},
   "outputs": [
    {
     "data": {
      "text/plain": [
       "Text(0,0.5,'Error Rate')"
      ]
     },
     "execution_count": 112,
     "metadata": {},
     "output_type": "execute_result"
    },
    {
     "data": {
      "image/png": "[encoded data removed]",
      "text/plain": [
       "<Figure size 720x432 with 1 Axes>"
      ]
     },
     "metadata": {},
     "output_type": "display_data"
    }
   ],
   "source": [
    "plt.figure(figsize=(10,6))\n",
    "plt.plot(range(1,25),error_rate,color='blue', linestyle='dashed', marker='o',\n",
    "         markerfacecolor='red', markersize=10)\n",
    "plt.title('Error Rate vs. K Value')\n",
    "plt.xlabel('K')\n",
    "plt.ylabel('Error Rate')"
   ]
  },
  {
   "cell_type": "code",
   "execution_count": 113,
   "metadata": {},
   "outputs": [
    {
     "name": "stdout",
     "output_type": "stream",
     "text": [
      "WITH K=1\n",
      "\n",
      "\n",
      "[[2 0 0 0]\n",
      " [0 4 0 0]\n",
      " [0 0 2 0]\n",
      " [0 0 0 3]]\n",
      "\n",
      "\n",
      "             precision    recall  f1-score   support\n",
      "\n",
      "          1       1.00      1.00      1.00         2\n",
      "          2       1.00      1.00      1.00         4\n",
      "          3       1.00      1.00      1.00         2\n",
      "          4       1.00      1.00      1.00         3\n",
      "\n",
      "avg / total       1.00      1.00      1.00        11\n",
      "\n"
     ]
    }
   ],
   "source": [
    "# FIRST A QUICK COMPARISON TO OUR ORIGINAL K=1\n",
    "knn = KNeighborsClassifier(n_neighbors=1)\n",
    "\n",
    "knn.fit(X_train,y_train)\n",
    "pred = knn.predict(X_test)\n",
    "\n",
    "print('WITH K=1')\n",
    "print('\\n')\n",
    "print(confusion_matrix(y_test,pred))\n",
    "print('\\n')\n",
    "print(classification_report(y_test,pred))"
   ]
  },
  {
   "cell_type": "code",
   "execution_count": 114,
   "metadata": {},
   "outputs": [
    {
     "name": "stdout",
     "output_type": "stream",
     "text": [
      "WITH K=23\n",
      "\n",
      "\n",
      "[[2 0 0 0]\n",
      " [4 0 0 0]\n",
      " [0 0 2 0]\n",
      " [0 0 3 0]]\n",
      "\n",
      "\n",
      "             precision    recall  f1-score   support\n",
      "\n",
      "          1       0.33      1.00      0.50         2\n",
      "          2       0.00      0.00      0.00         4\n",
      "          3       0.40      1.00      0.57         2\n",
      "          4       0.00      0.00      0.00         3\n",
      "\n",
      "avg / total       0.13      0.36      0.19        11\n",
      "\n"
     ]
    },
    {
     "name": "stderr",
     "output_type": "stream",
     "text": [
      "/home/jorge/anaconda3/lib/python3.6/site-packages/sklearn/metrics/classification.py:1135: UndefinedMetricWarning: Precision and F-score are ill-defined and being set to 0.0 in labels with no predicted samples.\n",
      "  'precision', 'predicted', average, warn_for)\n"
     ]
    }
   ],
   "source": [
    "# NOW WITH K=23\n",
    "knn = KNeighborsClassifier(n_neighbors=23)\n",
    "\n",
    "knn.fit(X_train,y_train)\n",
    "pred = knn.predict(X_test)\n",
    "\n",
    "print('WITH K=23')\n",
    "print('\\n')\n",
    "print(confusion_matrix(y_test,pred))\n",
    "print('\\n')\n",
    "print(classification_report(y_test,pred))"
   ]
  },
  {
   "cell_type": "markdown",
   "metadata": {},
   "source": [
    "# EDA"
   ]
  },
  {
   "cell_type": "code",
   "execution_count": 115,
   "metadata": {},
   "outputs": [
    {
     "data": {
      "text/plain": [
       "<seaborn.axisgrid.FacetGrid at 0x14d78130ba58>"
      ]
     },
     "execution_count": 115,
     "metadata": {},
     "output_type": "execute_result"
    },
    {
     "data": {
      "image/png": "[encoded data removed]",
      "text/plain": [
       "<Figure size 512.75x432 with 1 Axes>"
      ]
     },
     "metadata": {},
     "output_type": "display_data"
    }
   ],
   "source": [
    "sns.set_style('whitegrid')\n",
    "sns.lmplot('PROTEINA','FIBRA',data=df, hue='MUESTRA',\n",
    "           palette='coolwarm',size=6,aspect=1,fit_reg=False)"
   ]
  },
  {
   "cell_type": "code",
   "execution_count": 116,
   "metadata": {},
   "outputs": [],
   "source": [
    "from sklearn.cluster import KMeans"
   ]
  },
  {
   "cell_type": "code",
   "execution_count": 117,
   "metadata": {},
   "outputs": [],
   "source": [
    "kmeans = KMeans(n_clusters=6)"
   ]
  },
  {
   "cell_type": "code",
   "execution_count": 118,
   "metadata": {},
   "outputs": [
    {
     "data": {
      "text/plain": [
       "KMeans(algorithm='auto', copy_x=True, init='k-means++', max_iter=300,\n",
       "    n_clusters=6, n_init=10, n_jobs=1, precompute_distances='auto',\n",
       "    random_state=None, tol=0.0001, verbose=0)"
      ]
     },
     "execution_count": 118,
     "metadata": {},
     "output_type": "execute_result"
    }
   ],
   "source": [
    "kmeans.fit(X)"
   ]
  },
  {
   "cell_type": "code",
   "execution_count": 119,
   "metadata": {},
   "outputs": [
    {
     "data": {
      "text/plain": [
       "array([[ 7.45651666, 14.94913392,  1.94696512, 20.49494232, 14.9378    ,\n",
       "         6.25374435],\n",
       "       [ 6.07856045, 17.77633594,  1.4164202 , 17.10375514, 13.98142857,\n",
       "         5.77634162],\n",
       "       [ 8.07315386, 12.15056174,  1.87576354, 21.80375922, 16.082     ,\n",
       "         6.97272641],\n",
       "       [ 7.14562729, 16.07458751,  1.32993584, 20.02666731, 16.26121429,\n",
       "         5.71186773],\n",
       "       [ 7.21768532, 13.08228626,  1.78203914, 19.8458573 , 15.16721429,\n",
       "         6.0917681 ],\n",
       "       [ 6.01063085, 14.87663649,  1.42753047, 17.32404014, 14.004     ,\n",
       "         5.77422935]])"
      ]
     },
     "execution_count": 119,
     "metadata": {},
     "output_type": "execute_result"
    }
   ],
   "source": [
    "kmeans.cluster_centers_"
   ]
  },
  {
   "cell_type": "code",
   "execution_count": 120,
   "metadata": {},
   "outputs": [
    {
     "data": {
      "text/plain": [
       "array([2, 2, 2, 2, 2, 2, 0, 2, 2, 0, 4, 4, 0, 4, 4, 0, 0, 4, 4, 3, 3, 3,\n",
       "       4, 3, 3, 3, 3, 5, 1, 1, 5, 1, 1, 1, 1, 1], dtype=int32)"
      ]
     },
     "execution_count": 120,
     "metadata": {},
     "output_type": "execute_result"
    }
   ],
   "source": [
    "kmeans.labels_"
   ]
  },
  {
   "cell_type": "code",
   "execution_count": 121,
   "metadata": {},
   "outputs": [
    {
     "data": {
      "text/html": [
       "<div>\n",
       "<style scoped>\n",
       "    .dataframe tbody tr th:only-of-type {\n",
       "        vertical-align: middle;\n",
       "    }\n",
       "\n",
       "    .dataframe tbody tr th {\n",
       "        vertical-align: top;\n",
       "    }\n",
       "\n",
       "    .dataframe thead th {\n",
       "        text-align: right;\n",
       "    }\n",
       "</style>\n",
       "<table border=\"1\" class=\"dataframe\">\n",
       "  <thead>\n",
       "    <tr style=\"text-align: right;\">\n",
       "      <th></th>\n",
       "      <th>MUESTRA</th>\n",
       "      <th>HUMEDAD</th>\n",
       "      <th>AZUCARES</th>\n",
       "      <th>ETEREO</th>\n",
       "      <th>FIBRA</th>\n",
       "      <th>PROTEINA</th>\n",
       "      <th>CENIZA</th>\n",
       "    </tr>\n",
       "  </thead>\n",
       "  <tbody>\n",
       "    <tr>\n",
       "      <th>0</th>\n",
       "      <td>PaSAC50</td>\n",
       "      <td>8.171828</td>\n",
       "      <td>10.844601</td>\n",
       "      <td>1.875403</td>\n",
       "      <td>22.001089</td>\n",
       "      <td>16.030</td>\n",
       "      <td>6.879787</td>\n",
       "    </tr>\n",
       "    <tr>\n",
       "      <th>1</th>\n",
       "      <td>PaSAC50</td>\n",
       "      <td>8.047318</td>\n",
       "      <td>12.782585</td>\n",
       "      <td>1.872500</td>\n",
       "      <td>21.374351</td>\n",
       "      <td>16.156</td>\n",
       "      <td>7.010996</td>\n",
       "    </tr>\n",
       "    <tr>\n",
       "      <th>2</th>\n",
       "      <td>PaSAC50</td>\n",
       "      <td>7.983207</td>\n",
       "      <td>13.015447</td>\n",
       "      <td>1.877934</td>\n",
       "      <td>22.001089</td>\n",
       "      <td>16.056</td>\n",
       "      <td>6.940326</td>\n",
       "    </tr>\n",
       "    <tr>\n",
       "      <th>3</th>\n",
       "      <td>PaSAC50</td>\n",
       "      <td>8.071828</td>\n",
       "      <td>11.947515</td>\n",
       "      <td>1.876403</td>\n",
       "      <td>21.743508</td>\n",
       "      <td>16.030</td>\n",
       "      <td>6.979787</td>\n",
       "    </tr>\n",
       "    <tr>\n",
       "      <th>4</th>\n",
       "      <td>PaSAC50</td>\n",
       "      <td>8.097318</td>\n",
       "      <td>11.933919</td>\n",
       "      <td>1.873500</td>\n",
       "      <td>21.901089</td>\n",
       "      <td>16.086</td>\n",
       "      <td>7.000996</td>\n",
       "    </tr>\n",
       "  </tbody>\n",
       "</table>\n",
       "</div>"
      ],
      "text/plain": [
       "   MUESTRA   HUMEDAD   AZUCARES    ETEREO      FIBRA  PROTEINA    CENIZA\n",
       "0  PaSAC50  8.171828  10.844601  1.875403  22.001089    16.030  6.879787\n",
       "1  PaSAC50  8.047318  12.782585  1.872500  21.374351    16.156  7.010996\n",
       "2  PaSAC50  7.983207  13.015447  1.877934  22.001089    16.056  6.940326\n",
       "3  PaSAC50  8.071828  11.947515  1.876403  21.743508    16.030  6.979787\n",
       "4  PaSAC50  8.097318  11.933919  1.873500  21.901089    16.086  7.000996"
      ]
     },
     "execution_count": 121,
     "metadata": {},
     "output_type": "execute_result"
    }
   ],
   "source": [
    "df.head()"
   ]
  },
  {
   "cell_type": "code",
   "execution_count": 53,
   "metadata": {},
   "outputs": [],
   "source": [
    "def generar_indice(elemento):\n",
    "    if elemento == \"PiLIO50\":\n",
    "        return 1\n",
    "    if elemento == \"PiLIO60\":\n",
    "        return 2\n",
    "    if elemento == \"PiLIO80\":\n",
    "        return 3\n",
    "    if elemento == \"PiSAC50\":\n",
    "        return 4\n",
    "    if elemento == \"PiSAC60\":\n",
    "        return 5\n",
    "    if elemento == \"PiSAC80\":\n",
    "        return 6"
   ]
  },
  {
   "cell_type": "code",
   "execution_count": 122,
   "metadata": {},
   "outputs": [
    {
     "data": {
      "text/html": [
       "<div>\n",
       "<style scoped>\n",
       "    .dataframe tbody tr th:only-of-type {\n",
       "        vertical-align: middle;\n",
       "    }\n",
       "\n",
       "    .dataframe tbody tr th {\n",
       "        vertical-align: top;\n",
       "    }\n",
       "\n",
       "    .dataframe thead th {\n",
       "        text-align: right;\n",
       "    }\n",
       "</style>\n",
       "<table border=\"1\" class=\"dataframe\">\n",
       "  <thead>\n",
       "    <tr style=\"text-align: right;\">\n",
       "      <th></th>\n",
       "      <th>MUESTRA</th>\n",
       "      <th>HUMEDAD</th>\n",
       "      <th>AZUCARES</th>\n",
       "      <th>ETEREO</th>\n",
       "      <th>FIBRA</th>\n",
       "      <th>PROTEINA</th>\n",
       "      <th>CENIZA</th>\n",
       "      <th>Cluster</th>\n",
       "    </tr>\n",
       "  </thead>\n",
       "  <tbody>\n",
       "    <tr>\n",
       "      <th>0</th>\n",
       "      <td>PaSAC50</td>\n",
       "      <td>8.171828</td>\n",
       "      <td>10.844601</td>\n",
       "      <td>1.875403</td>\n",
       "      <td>22.001089</td>\n",
       "      <td>16.030</td>\n",
       "      <td>6.879787</td>\n",
       "      <td>1</td>\n",
       "    </tr>\n",
       "    <tr>\n",
       "      <th>1</th>\n",
       "      <td>PaSAC50</td>\n",
       "      <td>8.047318</td>\n",
       "      <td>12.782585</td>\n",
       "      <td>1.872500</td>\n",
       "      <td>21.374351</td>\n",
       "      <td>16.156</td>\n",
       "      <td>7.010996</td>\n",
       "      <td>1</td>\n",
       "    </tr>\n",
       "    <tr>\n",
       "      <th>2</th>\n",
       "      <td>PaSAC50</td>\n",
       "      <td>7.983207</td>\n",
       "      <td>13.015447</td>\n",
       "      <td>1.877934</td>\n",
       "      <td>22.001089</td>\n",
       "      <td>16.056</td>\n",
       "      <td>6.940326</td>\n",
       "      <td>1</td>\n",
       "    </tr>\n",
       "    <tr>\n",
       "      <th>3</th>\n",
       "      <td>PaSAC50</td>\n",
       "      <td>8.071828</td>\n",
       "      <td>11.947515</td>\n",
       "      <td>1.876403</td>\n",
       "      <td>21.743508</td>\n",
       "      <td>16.030</td>\n",
       "      <td>6.979787</td>\n",
       "      <td>1</td>\n",
       "    </tr>\n",
       "    <tr>\n",
       "      <th>4</th>\n",
       "      <td>PaSAC50</td>\n",
       "      <td>8.097318</td>\n",
       "      <td>11.933919</td>\n",
       "      <td>1.873500</td>\n",
       "      <td>21.901089</td>\n",
       "      <td>16.086</td>\n",
       "      <td>7.000996</td>\n",
       "      <td>1</td>\n",
       "    </tr>\n",
       "    <tr>\n",
       "      <th>5</th>\n",
       "      <td>PaSAC50</td>\n",
       "      <td>7.983207</td>\n",
       "      <td>13.662424</td>\n",
       "      <td>1.876934</td>\n",
       "      <td>21.843508</td>\n",
       "      <td>16.076</td>\n",
       "      <td>6.990326</td>\n",
       "      <td>1</td>\n",
       "    </tr>\n",
       "    <tr>\n",
       "      <th>6</th>\n",
       "      <td>PaSAC50</td>\n",
       "      <td>8.121828</td>\n",
       "      <td>14.887668</td>\n",
       "      <td>1.875403</td>\n",
       "      <td>21.701089</td>\n",
       "      <td>16.040</td>\n",
       "      <td>6.909787</td>\n",
       "      <td>1</td>\n",
       "    </tr>\n",
       "    <tr>\n",
       "      <th>7</th>\n",
       "      <td>PaSAC50</td>\n",
       "      <td>8.147318</td>\n",
       "      <td>11.850996</td>\n",
       "      <td>1.875500</td>\n",
       "      <td>21.991089</td>\n",
       "      <td>16.126</td>\n",
       "      <td>6.996335</td>\n",
       "      <td>1</td>\n",
       "    </tr>\n",
       "    <tr>\n",
       "      <th>8</th>\n",
       "      <td>PaSAC50</td>\n",
       "      <td>8.083207</td>\n",
       "      <td>11.167006</td>\n",
       "      <td>1.877934</td>\n",
       "      <td>21.574351</td>\n",
       "      <td>16.096</td>\n",
       "      <td>6.983259</td>\n",
       "      <td>1</td>\n",
       "    </tr>\n",
       "    <tr>\n",
       "      <th>9</th>\n",
       "      <td>PaSAC80</td>\n",
       "      <td>7.334711</td>\n",
       "      <td>14.590271</td>\n",
       "      <td>1.976403</td>\n",
       "      <td>20.350833</td>\n",
       "      <td>14.675</td>\n",
       "      <td>5.981738</td>\n",
       "      <td>2</td>\n",
       "    </tr>\n",
       "  </tbody>\n",
       "</table>\n",
       "</div>"
      ],
      "text/plain": [
       "   MUESTRA   HUMEDAD   AZUCARES    ETEREO      FIBRA  PROTEINA    CENIZA  \\\n",
       "0  PaSAC50  8.171828  10.844601  1.875403  22.001089    16.030  6.879787   \n",
       "1  PaSAC50  8.047318  12.782585  1.872500  21.374351    16.156  7.010996   \n",
       "2  PaSAC50  7.983207  13.015447  1.877934  22.001089    16.056  6.940326   \n",
       "3  PaSAC50  8.071828  11.947515  1.876403  21.743508    16.030  6.979787   \n",
       "4  PaSAC50  8.097318  11.933919  1.873500  21.901089    16.086  7.000996   \n",
       "5  PaSAC50  7.983207  13.662424  1.876934  21.843508    16.076  6.990326   \n",
       "6  PaSAC50  8.121828  14.887668  1.875403  21.701089    16.040  6.909787   \n",
       "7  PaSAC50  8.147318  11.850996  1.875500  21.991089    16.126  6.996335   \n",
       "8  PaSAC50  8.083207  11.167006  1.877934  21.574351    16.096  6.983259   \n",
       "9  PaSAC80  7.334711  14.590271  1.976403  20.350833    14.675  5.981738   \n",
       "\n",
       "   Cluster  \n",
       "0        1  \n",
       "1        1  \n",
       "2        1  \n",
       "3        1  \n",
       "4        1  \n",
       "5        1  \n",
       "6        1  \n",
       "7        1  \n",
       "8        1  \n",
       "9        2  "
      ]
     },
     "execution_count": 122,
     "metadata": {},
     "output_type": "execute_result"
    }
   ],
   "source": [
    "df['Cluster'] = df['MUESTRA'].apply(generar_indice)\n",
    "df.head(10)"
   ]
  },
  {
   "cell_type": "code",
   "execution_count": 123,
   "metadata": {},
   "outputs": [
    {
     "name": "stdout",
     "output_type": "stream",
     "text": [
      "[[0 0 0 0 0 0]\n",
      " [1 0 8 0 0 0]\n",
      " [4 0 0 0 5 0]\n",
      " [0 0 0 7 2 0]\n",
      " [0 7 0 0 0 2]\n",
      " [0 0 0 0 0 0]]\n",
      "             precision    recall  f1-score   support\n",
      "\n",
      "          0       0.00      0.00      0.00         0\n",
      "          1       0.00      0.00      0.00         9\n",
      "          2       0.00      0.00      0.00         9\n",
      "          3       1.00      0.78      0.88         9\n",
      "          4       0.00      0.00      0.00         9\n",
      "          5       0.00      0.00      0.00         0\n",
      "\n",
      "avg / total       0.25      0.19      0.22        36\n",
      "\n"
     ]
    },
    {
     "name": "stderr",
     "output_type": "stream",
     "text": [
      "/home/jorge/anaconda3/lib/python3.6/site-packages/sklearn/metrics/classification.py:1137: UndefinedMetricWarning: Recall and F-score are ill-defined and being set to 0.0 in labels with no true samples.\n",
      "  'recall', 'true', average, warn_for)\n"
     ]
    }
   ],
   "source": [
    "from sklearn.metrics import confusion_matrix,classification_report\n",
    "print(confusion_matrix(df['Cluster'],kmeans.labels_))\n",
    "print(classification_report(df['Cluster'],kmeans.labels_))"
   ]
  },
  {
   "cell_type": "code",
   "execution_count": 154,
   "metadata": {},
   "outputs": [],
   "source": [
    "import pandas as pd\n",
    "import numpy as np\n",
    "import random as rd\n",
    "from sklearn.decomposition import PCA\n",
    "from sklearn import preprocessing\n",
    "import matplotlib.pyplot as plt"
   ]
  },
  {
   "cell_type": "code",
   "execution_count": 155,
   "metadata": {},
   "outputs": [],
   "source": [
    "scaled_data = preprocessing.scale(X.T)\n",
    " \n",
    "pca = PCA() # create a PCA object\n",
    "pca.fit(scaled_data) # do the math\n",
    "pca_data = pca.transform(scaled_data) # get PCA coordinates for scaled_data\n",
    " "
   ]
  },
  {
   "cell_type": "code",
   "execution_count": 156,
   "metadata": {},
   "outputs": [
    {
     "data": {
      "text/plain": [
       "PCA(copy=True, iterated_power='auto', n_components=None, random_state=None,\n",
       "  svd_solver='auto', tol=0.0, whiten=False)"
      ]
     },
     "execution_count": 156,
     "metadata": {},
     "output_type": "execute_result"
    }
   ],
   "source": [
    "pca"
   ]
  },
  {
   "cell_type": "code",
   "execution_count": 136,
   "metadata": {},
   "outputs": [],
   "source": [
    "#The following code constructs the Scree plot\n",
    "per_var = np.round(pca.explained_variance_ratio_* 100, decimals=1)\n",
    "labels = ['PC' + str(x) for x in range(1, len(per_var)+1)]\n",
    " \n"
   ]
  },
  {
   "cell_type": "code",
   "execution_count": 158,
   "metadata": {},
   "outputs": [
    {
     "data": {
      "text/plain": [
       "array([96.8,  3.1,  0.1,  0. ,  0. ,  0. ])"
      ]
     },
     "execution_count": 158,
     "metadata": {},
     "output_type": "execute_result"
    }
   ],
   "source": [
    "per_var"
   ]
  },
  {
   "cell_type": "code",
   "execution_count": 159,
   "metadata": {},
   "outputs": [
    {
     "data": {
      "text/plain": [
       "['PC1', 'PC2', 'PC3', 'PC4', 'PC5', 'PC6']"
      ]
     },
     "execution_count": 159,
     "metadata": {},
     "output_type": "execute_result"
    }
   ],
   "source": [
    "labels"
   ]
  },
  {
   "cell_type": "code",
   "execution_count": 137,
   "metadata": {},
   "outputs": [
    {
     "data": {
      "image/png": "[encoded data removed]",
      "text/plain": [
       "<Figure size 432x288 with 1 Axes>"
      ]
     },
     "metadata": {},
     "output_type": "display_data"
    }
   ],
   "source": [
    "plt.bar(x=range(1,len(per_var)+1), height=per_var, tick_label=labels)\n",
    "plt.ylabel('Percentage of Explained Variance')\n",
    "plt.xlabel('Principal Component')\n",
    "plt.title('Scree Plot')\n",
    "plt.show()"
   ]
  },
  {
   "cell_type": "code",
   "execution_count": 182,
   "metadata": {},
   "outputs": [
    {
     "ename": "ValueError",
     "evalue": "Shape of passed values is (36, 6), indices imply (6, 36)",
     "output_type": "error",
     "traceback": [
      "\u001b[0;31m---------------------------------------------------------------------------\u001b[0m",
      "\u001b[0;31mValueError\u001b[0m                                Traceback (most recent call last)",
      "\u001b[0;32m~/anaconda3/lib/python3.6/site-packages/pandas/core/internals.py\u001b[0m in \u001b[0;36mcreate_block_manager_from_blocks\u001b[0;34m(blocks, axes)\u001b[0m\n\u001b[1;32m   4856\u001b[0m                 blocks = [make_block(values=blocks[0],\n\u001b[0;32m-> 4857\u001b[0;31m                                      placement=slice(0, len(axes[0])))]\n\u001b[0m\u001b[1;32m   4858\u001b[0m \u001b[0;34m\u001b[0m\u001b[0m\n",
      "\u001b[0;32m~/anaconda3/lib/python3.6/site-packages/pandas/core/internals.py\u001b[0m in \u001b[0;36mmake_block\u001b[0;34m(values, placement, klass, ndim, dtype, fastpath)\u001b[0m\n\u001b[1;32m   3204\u001b[0m \u001b[0;34m\u001b[0m\u001b[0m\n\u001b[0;32m-> 3205\u001b[0;31m     \u001b[0;32mreturn\u001b[0m \u001b[0mklass\u001b[0m\u001b[0;34m(\u001b[0m\u001b[0mvalues\u001b[0m\u001b[0;34m,\u001b[0m \u001b[0mndim\u001b[0m\u001b[0;34m=\u001b[0m\u001b[0mndim\u001b[0m\u001b[0;34m,\u001b[0m \u001b[0mplacement\u001b[0m\u001b[0;34m=\u001b[0m\u001b[0mplacement\u001b[0m\u001b[0;34m)\u001b[0m\u001b[0;34m\u001b[0m\u001b[0m\n\u001b[0m\u001b[1;32m   3206\u001b[0m \u001b[0;34m\u001b[0m\u001b[0m\n",
      "\u001b[0;32m~/anaconda3/lib/python3.6/site-packages/pandas/core/internals.py\u001b[0m in \u001b[0;36m__init__\u001b[0;34m(self, values, placement, ndim)\u001b[0m\n\u001b[1;32m    124\u001b[0m                 \u001b[0;34m'Wrong number of items passed {val}, placement implies '\u001b[0m\u001b[0;34m\u001b[0m\u001b[0m\n\u001b[0;32m--> 125\u001b[0;31m                 '{mgr}'.format(val=len(self.values), mgr=len(self.mgr_locs)))\n\u001b[0m\u001b[1;32m    126\u001b[0m \u001b[0;34m\u001b[0m\u001b[0m\n",
      "\u001b[0;31mValueError\u001b[0m: Wrong number of items passed 36, placement implies 6",
      "\nDuring handling of the above exception, another exception occurred:\n",
      "\u001b[0;31mValueError\u001b[0m                                Traceback (most recent call last)",
      "\u001b[0;32m<ipython-input-182-95e2b881960b>\u001b[0m in \u001b[0;36m<module>\u001b[0;34m()\u001b[0m\n\u001b[1;32m      1\u001b[0m \u001b[0;31m#the following code makes a fancy looking plot using PC1 and PC2\u001b[0m\u001b[0;34m\u001b[0m\u001b[0;34m\u001b[0m\u001b[0m\n\u001b[0;32m----> 2\u001b[0;31m \u001b[0mpca_df\u001b[0m \u001b[0;34m=\u001b[0m \u001b[0mpd\u001b[0m\u001b[0;34m.\u001b[0m\u001b[0mDataFrame\u001b[0m\u001b[0;34m(\u001b[0m\u001b[0mscaled_data\u001b[0m\u001b[0;34m,\u001b[0m \u001b[0mindex\u001b[0m\u001b[0;34m=\u001b[0m\u001b[0mdf\u001b[0m\u001b[0;34m[\u001b[0m\u001b[0;34m\"MUESTRA\"\u001b[0m\u001b[0;34m]\u001b[0m\u001b[0;34m,\u001b[0m \u001b[0mcolumns\u001b[0m\u001b[0;34m=\u001b[0m\u001b[0mlabels\u001b[0m\u001b[0;34m)\u001b[0m\u001b[0;34m\u001b[0m\u001b[0m\n\u001b[0m",
      "\u001b[0;32m~/anaconda3/lib/python3.6/site-packages/pandas/core/frame.py\u001b[0m in \u001b[0;36m__init__\u001b[0;34m(self, data, index, columns, dtype, copy)\u001b[0m\n\u001b[1;32m    377\u001b[0m             \u001b[0;32melse\u001b[0m\u001b[0;34m:\u001b[0m\u001b[0;34m\u001b[0m\u001b[0m\n\u001b[1;32m    378\u001b[0m                 mgr = self._init_ndarray(data, index, columns, dtype=dtype,\n\u001b[0;32m--> 379\u001b[0;31m                                          copy=copy)\n\u001b[0m\u001b[1;32m    380\u001b[0m         \u001b[0;32melif\u001b[0m \u001b[0misinstance\u001b[0m\u001b[0;34m(\u001b[0m\u001b[0mdata\u001b[0m\u001b[0;34m,\u001b[0m \u001b[0;34m(\u001b[0m\u001b[0mlist\u001b[0m\u001b[0;34m,\u001b[0m \u001b[0mtypes\u001b[0m\u001b[0;34m.\u001b[0m\u001b[0mGeneratorType\u001b[0m\u001b[0;34m)\u001b[0m\u001b[0;34m)\u001b[0m\u001b[0;34m:\u001b[0m\u001b[0;34m\u001b[0m\u001b[0m\n\u001b[1;32m    381\u001b[0m             \u001b[0;32mif\u001b[0m \u001b[0misinstance\u001b[0m\u001b[0;34m(\u001b[0m\u001b[0mdata\u001b[0m\u001b[0;34m,\u001b[0m \u001b[0mtypes\u001b[0m\u001b[0;34m.\u001b[0m\u001b[0mGeneratorType\u001b[0m\u001b[0;34m)\u001b[0m\u001b[0;34m:\u001b[0m\u001b[0;34m\u001b[0m\u001b[0m\n",
      "\u001b[0;32m~/anaconda3/lib/python3.6/site-packages/pandas/core/frame.py\u001b[0m in \u001b[0;36m_init_ndarray\u001b[0;34m(self, values, index, columns, dtype, copy)\u001b[0m\n\u001b[1;32m    534\u001b[0m             \u001b[0mvalues\u001b[0m \u001b[0;34m=\u001b[0m \u001b[0mmaybe_infer_to_datetimelike\u001b[0m\u001b[0;34m(\u001b[0m\u001b[0mvalues\u001b[0m\u001b[0;34m)\u001b[0m\u001b[0;34m\u001b[0m\u001b[0m\n\u001b[1;32m    535\u001b[0m \u001b[0;34m\u001b[0m\u001b[0m\n\u001b[0;32m--> 536\u001b[0;31m         \u001b[0;32mreturn\u001b[0m \u001b[0mcreate_block_manager_from_blocks\u001b[0m\u001b[0;34m(\u001b[0m\u001b[0;34m[\u001b[0m\u001b[0mvalues\u001b[0m\u001b[0;34m]\u001b[0m\u001b[0;34m,\u001b[0m \u001b[0;34m[\u001b[0m\u001b[0mcolumns\u001b[0m\u001b[0;34m,\u001b[0m \u001b[0mindex\u001b[0m\u001b[0;34m]\u001b[0m\u001b[0;34m)\u001b[0m\u001b[0;34m\u001b[0m\u001b[0m\n\u001b[0m\u001b[1;32m    537\u001b[0m \u001b[0;34m\u001b[0m\u001b[0m\n\u001b[1;32m    538\u001b[0m     \u001b[0;34m@\u001b[0m\u001b[0mproperty\u001b[0m\u001b[0;34m\u001b[0m\u001b[0m\n",
      "\u001b[0;32m~/anaconda3/lib/python3.6/site-packages/pandas/core/internals.py\u001b[0m in \u001b[0;36mcreate_block_manager_from_blocks\u001b[0;34m(blocks, axes)\u001b[0m\n\u001b[1;32m   4864\u001b[0m         \u001b[0mblocks\u001b[0m \u001b[0;34m=\u001b[0m \u001b[0;34m[\u001b[0m\u001b[0mgetattr\u001b[0m\u001b[0;34m(\u001b[0m\u001b[0mb\u001b[0m\u001b[0;34m,\u001b[0m \u001b[0;34m'values'\u001b[0m\u001b[0;34m,\u001b[0m \u001b[0mb\u001b[0m\u001b[0;34m)\u001b[0m \u001b[0;32mfor\u001b[0m \u001b[0mb\u001b[0m \u001b[0;32min\u001b[0m \u001b[0mblocks\u001b[0m\u001b[0;34m]\u001b[0m\u001b[0;34m\u001b[0m\u001b[0m\n\u001b[1;32m   4865\u001b[0m         \u001b[0mtot_items\u001b[0m \u001b[0;34m=\u001b[0m \u001b[0msum\u001b[0m\u001b[0;34m(\u001b[0m\u001b[0mb\u001b[0m\u001b[0;34m.\u001b[0m\u001b[0mshape\u001b[0m\u001b[0;34m[\u001b[0m\u001b[0;36m0\u001b[0m\u001b[0;34m]\u001b[0m \u001b[0;32mfor\u001b[0m \u001b[0mb\u001b[0m \u001b[0;32min\u001b[0m \u001b[0mblocks\u001b[0m\u001b[0;34m)\u001b[0m\u001b[0;34m\u001b[0m\u001b[0m\n\u001b[0;32m-> 4866\u001b[0;31m         \u001b[0mconstruction_error\u001b[0m\u001b[0;34m(\u001b[0m\u001b[0mtot_items\u001b[0m\u001b[0;34m,\u001b[0m \u001b[0mblocks\u001b[0m\u001b[0;34m[\u001b[0m\u001b[0;36m0\u001b[0m\u001b[0;34m]\u001b[0m\u001b[0;34m.\u001b[0m\u001b[0mshape\u001b[0m\u001b[0;34m[\u001b[0m\u001b[0;36m1\u001b[0m\u001b[0;34m:\u001b[0m\u001b[0;34m]\u001b[0m\u001b[0;34m,\u001b[0m \u001b[0maxes\u001b[0m\u001b[0;34m,\u001b[0m \u001b[0me\u001b[0m\u001b[0;34m)\u001b[0m\u001b[0;34m\u001b[0m\u001b[0m\n\u001b[0m\u001b[1;32m   4867\u001b[0m \u001b[0;34m\u001b[0m\u001b[0m\n\u001b[1;32m   4868\u001b[0m \u001b[0;34m\u001b[0m\u001b[0m\n",
      "\u001b[0;32m~/anaconda3/lib/python3.6/site-packages/pandas/core/internals.py\u001b[0m in \u001b[0;36mconstruction_error\u001b[0;34m(tot_items, block_shape, axes, e)\u001b[0m\n\u001b[1;32m   4841\u001b[0m         \u001b[0;32mraise\u001b[0m \u001b[0mValueError\u001b[0m\u001b[0;34m(\u001b[0m\u001b[0;34m\"Empty data passed with indices specified.\"\u001b[0m\u001b[0;34m)\u001b[0m\u001b[0;34m\u001b[0m\u001b[0m\n\u001b[1;32m   4842\u001b[0m     raise ValueError(\"Shape of passed values is {0}, indices imply {1}\".format(\n\u001b[0;32m-> 4843\u001b[0;31m         passed, implied))\n\u001b[0m\u001b[1;32m   4844\u001b[0m \u001b[0;34m\u001b[0m\u001b[0m\n\u001b[1;32m   4845\u001b[0m \u001b[0;34m\u001b[0m\u001b[0m\n",
      "\u001b[0;31mValueError\u001b[0m: Shape of passed values is (36, 6), indices imply (6, 36)"
     ]
    }
   ],
   "source": [
    "#the following code makes a fancy looking plot using PC1 and PC2\n",
    "pca_df = pd.DataFrame(scaled_data, index=df[\"MUESTRA\"], columns=labels)"
   ]
  },
  {
   "cell_type": "code",
   "execution_count": 161,
   "metadata": {},
   "outputs": [
    {
     "ename": "ValueError",
     "evalue": "cannot convert float NaN to integer",
     "output_type": "error",
     "traceback": [
      "\u001b[0;31m---------------------------------------------------------------------------\u001b[0m",
      "\u001b[0;31mValueError\u001b[0m                                Traceback (most recent call last)",
      "\u001b[0;32m~/anaconda3/lib/python3.6/site-packages/IPython/core/formatters.py\u001b[0m in \u001b[0;36m__call__\u001b[0;34m(self, obj)\u001b[0m\n\u001b[1;32m    339\u001b[0m                 \u001b[0;32mpass\u001b[0m\u001b[0;34m\u001b[0m\u001b[0m\n\u001b[1;32m    340\u001b[0m             \u001b[0;32melse\u001b[0m\u001b[0;34m:\u001b[0m\u001b[0;34m\u001b[0m\u001b[0m\n\u001b[0;32m--> 341\u001b[0;31m                 \u001b[0;32mreturn\u001b[0m \u001b[0mprinter\u001b[0m\u001b[0;34m(\u001b[0m\u001b[0mobj\u001b[0m\u001b[0;34m)\u001b[0m\u001b[0;34m\u001b[0m\u001b[0m\n\u001b[0m\u001b[1;32m    342\u001b[0m             \u001b[0;31m# Finally look for special method names\u001b[0m\u001b[0;34m\u001b[0m\u001b[0;34m\u001b[0m\u001b[0m\n\u001b[1;32m    343\u001b[0m             \u001b[0mmethod\u001b[0m \u001b[0;34m=\u001b[0m \u001b[0mget_real_method\u001b[0m\u001b[0;34m(\u001b[0m\u001b[0mobj\u001b[0m\u001b[0;34m,\u001b[0m \u001b[0mself\u001b[0m\u001b[0;34m.\u001b[0m\u001b[0mprint_method\u001b[0m\u001b[0;34m)\u001b[0m\u001b[0;34m\u001b[0m\u001b[0m\n",
      "\u001b[0;32m~/anaconda3/lib/python3.6/site-packages/IPython/core/pylabtools.py\u001b[0m in \u001b[0;36m<lambda>\u001b[0;34m(fig)\u001b[0m\n\u001b[1;32m    239\u001b[0m \u001b[0;34m\u001b[0m\u001b[0m\n\u001b[1;32m    240\u001b[0m     \u001b[0;32mif\u001b[0m \u001b[0;34m'png'\u001b[0m \u001b[0;32min\u001b[0m \u001b[0mformats\u001b[0m\u001b[0;34m:\u001b[0m\u001b[0;34m\u001b[0m\u001b[0m\n\u001b[0;32m--> 241\u001b[0;31m         \u001b[0mpng_formatter\u001b[0m\u001b[0;34m.\u001b[0m\u001b[0mfor_type\u001b[0m\u001b[0;34m(\u001b[0m\u001b[0mFigure\u001b[0m\u001b[0;34m,\u001b[0m \u001b[0;32mlambda\u001b[0m \u001b[0mfig\u001b[0m\u001b[0;34m:\u001b[0m \u001b[0mprint_figure\u001b[0m\u001b[0;34m(\u001b[0m\u001b[0mfig\u001b[0m\u001b[0;34m,\u001b[0m \u001b[0;34m'png'\u001b[0m\u001b[0;34m,\u001b[0m \u001b[0;34m**\u001b[0m\u001b[0mkwargs\u001b[0m\u001b[0;34m)\u001b[0m\u001b[0;34m)\u001b[0m\u001b[0;34m\u001b[0m\u001b[0m\n\u001b[0m\u001b[1;32m    242\u001b[0m     \u001b[0;32mif\u001b[0m \u001b[0;34m'retina'\u001b[0m \u001b[0;32min\u001b[0m \u001b[0mformats\u001b[0m \u001b[0;32mor\u001b[0m \u001b[0;34m'png2x'\u001b[0m \u001b[0;32min\u001b[0m \u001b[0mformats\u001b[0m\u001b[0;34m:\u001b[0m\u001b[0;34m\u001b[0m\u001b[0m\n\u001b[1;32m    243\u001b[0m         \u001b[0mpng_formatter\u001b[0m\u001b[0;34m.\u001b[0m\u001b[0mfor_type\u001b[0m\u001b[0;34m(\u001b[0m\u001b[0mFigure\u001b[0m\u001b[0;34m,\u001b[0m \u001b[0;32mlambda\u001b[0m \u001b[0mfig\u001b[0m\u001b[0;34m:\u001b[0m \u001b[0mretina_figure\u001b[0m\u001b[0;34m(\u001b[0m\u001b[0mfig\u001b[0m\u001b[0;34m,\u001b[0m \u001b[0;34m**\u001b[0m\u001b[0mkwargs\u001b[0m\u001b[0;34m)\u001b[0m\u001b[0;34m)\u001b[0m\u001b[0;34m\u001b[0m\u001b[0m\n",
      "\u001b[0;32m~/anaconda3/lib/python3.6/site-packages/IPython/core/pylabtools.py\u001b[0m in \u001b[0;36mprint_figure\u001b[0;34m(fig, fmt, bbox_inches, **kwargs)\u001b[0m\n\u001b[1;32m    123\u001b[0m \u001b[0;34m\u001b[0m\u001b[0m\n\u001b[1;32m    124\u001b[0m     \u001b[0mbytes_io\u001b[0m \u001b[0;34m=\u001b[0m \u001b[0mBytesIO\u001b[0m\u001b[0;34m(\u001b[0m\u001b[0;34m)\u001b[0m\u001b[0;34m\u001b[0m\u001b[0m\n\u001b[0;32m--> 125\u001b[0;31m     \u001b[0mfig\u001b[0m\u001b[0;34m.\u001b[0m\u001b[0mcanvas\u001b[0m\u001b[0;34m.\u001b[0m\u001b[0mprint_figure\u001b[0m\u001b[0;34m(\u001b[0m\u001b[0mbytes_io\u001b[0m\u001b[0;34m,\u001b[0m \u001b[0;34m**\u001b[0m\u001b[0mkw\u001b[0m\u001b[0;34m)\u001b[0m\u001b[0;34m\u001b[0m\u001b[0m\n\u001b[0m\u001b[1;32m    126\u001b[0m     \u001b[0mdata\u001b[0m \u001b[0;34m=\u001b[0m \u001b[0mbytes_io\u001b[0m\u001b[0;34m.\u001b[0m\u001b[0mgetvalue\u001b[0m\u001b[0;34m(\u001b[0m\u001b[0;34m)\u001b[0m\u001b[0;34m\u001b[0m\u001b[0m\n\u001b[1;32m    127\u001b[0m     \u001b[0;32mif\u001b[0m \u001b[0mfmt\u001b[0m \u001b[0;34m==\u001b[0m \u001b[0;34m'svg'\u001b[0m\u001b[0;34m:\u001b[0m\u001b[0;34m\u001b[0m\u001b[0m\n",
      "\u001b[0;32m~/anaconda3/lib/python3.6/site-packages/matplotlib/backend_bases.py\u001b[0m in \u001b[0;36mprint_figure\u001b[0;34m(self, filename, dpi, facecolor, edgecolor, orientation, format, **kwargs)\u001b[0m\n\u001b[1;32m   2261\u001b[0m                 \u001b[0morientation\u001b[0m\u001b[0;34m=\u001b[0m\u001b[0morientation\u001b[0m\u001b[0;34m,\u001b[0m\u001b[0;34m\u001b[0m\u001b[0m\n\u001b[1;32m   2262\u001b[0m                 \u001b[0mbbox_inches_restore\u001b[0m\u001b[0;34m=\u001b[0m\u001b[0m_bbox_inches_restore\u001b[0m\u001b[0;34m,\u001b[0m\u001b[0;34m\u001b[0m\u001b[0m\n\u001b[0;32m-> 2263\u001b[0;31m                 **kwargs)\n\u001b[0m\u001b[1;32m   2264\u001b[0m         \u001b[0;32mfinally\u001b[0m\u001b[0;34m:\u001b[0m\u001b[0;34m\u001b[0m\u001b[0m\n\u001b[1;32m   2265\u001b[0m             \u001b[0;32mif\u001b[0m \u001b[0mbbox_inches\u001b[0m \u001b[0;32mand\u001b[0m \u001b[0mrestore_bbox\u001b[0m\u001b[0;34m:\u001b[0m\u001b[0;34m\u001b[0m\u001b[0m\n",
      "\u001b[0;32m~/anaconda3/lib/python3.6/site-packages/matplotlib/backends/backend_agg.py\u001b[0m in \u001b[0;36mprint_png\u001b[0;34m(self, filename_or_obj, *args, **kwargs)\u001b[0m\n\u001b[1;32m    511\u001b[0m \u001b[0;34m\u001b[0m\u001b[0m\n\u001b[1;32m    512\u001b[0m     \u001b[0;32mdef\u001b[0m \u001b[0mprint_png\u001b[0m\u001b[0;34m(\u001b[0m\u001b[0mself\u001b[0m\u001b[0;34m,\u001b[0m \u001b[0mfilename_or_obj\u001b[0m\u001b[0;34m,\u001b[0m \u001b[0;34m*\u001b[0m\u001b[0margs\u001b[0m\u001b[0;34m,\u001b[0m \u001b[0;34m**\u001b[0m\u001b[0mkwargs\u001b[0m\u001b[0;34m)\u001b[0m\u001b[0;34m:\u001b[0m\u001b[0;34m\u001b[0m\u001b[0m\n\u001b[0;32m--> 513\u001b[0;31m         \u001b[0mFigureCanvasAgg\u001b[0m\u001b[0;34m.\u001b[0m\u001b[0mdraw\u001b[0m\u001b[0;34m(\u001b[0m\u001b[0mself\u001b[0m\u001b[0;34m)\u001b[0m\u001b[0;34m\u001b[0m\u001b[0m\n\u001b[0m\u001b[1;32m    514\u001b[0m         \u001b[0mrenderer\u001b[0m \u001b[0;34m=\u001b[0m \u001b[0mself\u001b[0m\u001b[0;34m.\u001b[0m\u001b[0mget_renderer\u001b[0m\u001b[0;34m(\u001b[0m\u001b[0;34m)\u001b[0m\u001b[0;34m\u001b[0m\u001b[0m\n\u001b[1;32m    515\u001b[0m         \u001b[0moriginal_dpi\u001b[0m \u001b[0;34m=\u001b[0m \u001b[0mrenderer\u001b[0m\u001b[0;34m.\u001b[0m\u001b[0mdpi\u001b[0m\u001b[0;34m\u001b[0m\u001b[0m\n",
      "\u001b[0;32m~/anaconda3/lib/python3.6/site-packages/matplotlib/backends/backend_agg.py\u001b[0m in \u001b[0;36mdraw\u001b[0;34m(self)\u001b[0m\n\u001b[1;32m    431\u001b[0m             \u001b[0;31m# if toolbar:\u001b[0m\u001b[0;34m\u001b[0m\u001b[0;34m\u001b[0m\u001b[0m\n\u001b[1;32m    432\u001b[0m             \u001b[0;31m#     toolbar.set_cursor(cursors.WAIT)\u001b[0m\u001b[0;34m\u001b[0m\u001b[0;34m\u001b[0m\u001b[0m\n\u001b[0;32m--> 433\u001b[0;31m             \u001b[0mself\u001b[0m\u001b[0;34m.\u001b[0m\u001b[0mfigure\u001b[0m\u001b[0;34m.\u001b[0m\u001b[0mdraw\u001b[0m\u001b[0;34m(\u001b[0m\u001b[0mself\u001b[0m\u001b[0;34m.\u001b[0m\u001b[0mrenderer\u001b[0m\u001b[0;34m)\u001b[0m\u001b[0;34m\u001b[0m\u001b[0m\n\u001b[0m\u001b[1;32m    434\u001b[0m             \u001b[0;31m# A GUI class may be need to update a window using this draw, so\u001b[0m\u001b[0;34m\u001b[0m\u001b[0;34m\u001b[0m\u001b[0m\n\u001b[1;32m    435\u001b[0m             \u001b[0;31m# don't forget to call the superclass.\u001b[0m\u001b[0;34m\u001b[0m\u001b[0;34m\u001b[0m\u001b[0m\n",
      "\u001b[0;32m~/anaconda3/lib/python3.6/site-packages/matplotlib/artist.py\u001b[0m in \u001b[0;36mdraw_wrapper\u001b[0;34m(artist, renderer, *args, **kwargs)\u001b[0m\n\u001b[1;32m     53\u001b[0m                 \u001b[0mrenderer\u001b[0m\u001b[0;34m.\u001b[0m\u001b[0mstart_filter\u001b[0m\u001b[0;34m(\u001b[0m\u001b[0;34m)\u001b[0m\u001b[0;34m\u001b[0m\u001b[0m\n\u001b[1;32m     54\u001b[0m \u001b[0;34m\u001b[0m\u001b[0m\n\u001b[0;32m---> 55\u001b[0;31m             \u001b[0;32mreturn\u001b[0m \u001b[0mdraw\u001b[0m\u001b[0;34m(\u001b[0m\u001b[0martist\u001b[0m\u001b[0;34m,\u001b[0m \u001b[0mrenderer\u001b[0m\u001b[0;34m,\u001b[0m \u001b[0;34m*\u001b[0m\u001b[0margs\u001b[0m\u001b[0;34m,\u001b[0m \u001b[0;34m**\u001b[0m\u001b[0mkwargs\u001b[0m\u001b[0;34m)\u001b[0m\u001b[0;34m\u001b[0m\u001b[0m\n\u001b[0m\u001b[1;32m     56\u001b[0m         \u001b[0;32mfinally\u001b[0m\u001b[0;34m:\u001b[0m\u001b[0;34m\u001b[0m\u001b[0m\n\u001b[1;32m     57\u001b[0m             \u001b[0;32mif\u001b[0m \u001b[0martist\u001b[0m\u001b[0;34m.\u001b[0m\u001b[0mget_agg_filter\u001b[0m\u001b[0;34m(\u001b[0m\u001b[0;34m)\u001b[0m \u001b[0;32mis\u001b[0m \u001b[0;32mnot\u001b[0m \u001b[0;32mNone\u001b[0m\u001b[0;34m:\u001b[0m\u001b[0;34m\u001b[0m\u001b[0m\n",
      "\u001b[0;32m~/anaconda3/lib/python3.6/site-packages/matplotlib/figure.py\u001b[0m in \u001b[0;36mdraw\u001b[0;34m(self, renderer)\u001b[0m\n\u001b[1;32m   1473\u001b[0m \u001b[0;34m\u001b[0m\u001b[0m\n\u001b[1;32m   1474\u001b[0m             mimage._draw_list_compositing_images(\n\u001b[0;32m-> 1475\u001b[0;31m                 renderer, self, artists, self.suppressComposite)\n\u001b[0m\u001b[1;32m   1476\u001b[0m \u001b[0;34m\u001b[0m\u001b[0m\n\u001b[1;32m   1477\u001b[0m             \u001b[0mrenderer\u001b[0m\u001b[0;34m.\u001b[0m\u001b[0mclose_group\u001b[0m\u001b[0;34m(\u001b[0m\u001b[0;34m'figure'\u001b[0m\u001b[0;34m)\u001b[0m\u001b[0;34m\u001b[0m\u001b[0m\n",
      "\u001b[0;32m~/anaconda3/lib/python3.6/site-packages/matplotlib/image.py\u001b[0m in \u001b[0;36m_draw_list_compositing_images\u001b[0;34m(renderer, parent, artists, suppress_composite)\u001b[0m\n\u001b[1;32m    139\u001b[0m     \u001b[0;32mif\u001b[0m \u001b[0mnot_composite\u001b[0m \u001b[0;32mor\u001b[0m \u001b[0;32mnot\u001b[0m \u001b[0mhas_images\u001b[0m\u001b[0;34m:\u001b[0m\u001b[0;34m\u001b[0m\u001b[0m\n\u001b[1;32m    140\u001b[0m         \u001b[0;32mfor\u001b[0m \u001b[0ma\u001b[0m \u001b[0;32min\u001b[0m \u001b[0martists\u001b[0m\u001b[0;34m:\u001b[0m\u001b[0;34m\u001b[0m\u001b[0m\n\u001b[0;32m--> 141\u001b[0;31m             \u001b[0ma\u001b[0m\u001b[0;34m.\u001b[0m\u001b[0mdraw\u001b[0m\u001b[0;34m(\u001b[0m\u001b[0mrenderer\u001b[0m\u001b[0;34m)\u001b[0m\u001b[0;34m\u001b[0m\u001b[0m\n\u001b[0m\u001b[1;32m    142\u001b[0m     \u001b[0;32melse\u001b[0m\u001b[0;34m:\u001b[0m\u001b[0;34m\u001b[0m\u001b[0m\n\u001b[1;32m    143\u001b[0m         \u001b[0;31m# Composite any adjacent images together\u001b[0m\u001b[0;34m\u001b[0m\u001b[0;34m\u001b[0m\u001b[0m\n",
      "\u001b[0;32m~/anaconda3/lib/python3.6/site-packages/matplotlib/artist.py\u001b[0m in \u001b[0;36mdraw_wrapper\u001b[0;34m(artist, renderer, *args, **kwargs)\u001b[0m\n\u001b[1;32m     53\u001b[0m                 \u001b[0mrenderer\u001b[0m\u001b[0;34m.\u001b[0m\u001b[0mstart_filter\u001b[0m\u001b[0;34m(\u001b[0m\u001b[0;34m)\u001b[0m\u001b[0;34m\u001b[0m\u001b[0m\n\u001b[1;32m     54\u001b[0m \u001b[0;34m\u001b[0m\u001b[0m\n\u001b[0;32m---> 55\u001b[0;31m             \u001b[0;32mreturn\u001b[0m \u001b[0mdraw\u001b[0m\u001b[0;34m(\u001b[0m\u001b[0martist\u001b[0m\u001b[0;34m,\u001b[0m \u001b[0mrenderer\u001b[0m\u001b[0;34m,\u001b[0m \u001b[0;34m*\u001b[0m\u001b[0margs\u001b[0m\u001b[0;34m,\u001b[0m \u001b[0;34m**\u001b[0m\u001b[0mkwargs\u001b[0m\u001b[0;34m)\u001b[0m\u001b[0;34m\u001b[0m\u001b[0m\n\u001b[0m\u001b[1;32m     56\u001b[0m         \u001b[0;32mfinally\u001b[0m\u001b[0;34m:\u001b[0m\u001b[0;34m\u001b[0m\u001b[0m\n\u001b[1;32m     57\u001b[0m             \u001b[0;32mif\u001b[0m \u001b[0martist\u001b[0m\u001b[0;34m.\u001b[0m\u001b[0mget_agg_filter\u001b[0m\u001b[0;34m(\u001b[0m\u001b[0;34m)\u001b[0m \u001b[0;32mis\u001b[0m \u001b[0;32mnot\u001b[0m \u001b[0;32mNone\u001b[0m\u001b[0;34m:\u001b[0m\u001b[0;34m\u001b[0m\u001b[0m\n",
      "\u001b[0;32m~/anaconda3/lib/python3.6/site-packages/matplotlib/axes/_base.py\u001b[0m in \u001b[0;36mdraw\u001b[0;34m(self, renderer, inframe)\u001b[0m\n\u001b[1;32m   2605\u001b[0m             \u001b[0mrenderer\u001b[0m\u001b[0;34m.\u001b[0m\u001b[0mstop_rasterizing\u001b[0m\u001b[0;34m(\u001b[0m\u001b[0;34m)\u001b[0m\u001b[0;34m\u001b[0m\u001b[0m\n\u001b[1;32m   2606\u001b[0m \u001b[0;34m\u001b[0m\u001b[0m\n\u001b[0;32m-> 2607\u001b[0;31m         \u001b[0mmimage\u001b[0m\u001b[0;34m.\u001b[0m\u001b[0m_draw_list_compositing_images\u001b[0m\u001b[0;34m(\u001b[0m\u001b[0mrenderer\u001b[0m\u001b[0;34m,\u001b[0m \u001b[0mself\u001b[0m\u001b[0;34m,\u001b[0m \u001b[0martists\u001b[0m\u001b[0;34m)\u001b[0m\u001b[0;34m\u001b[0m\u001b[0m\n\u001b[0m\u001b[1;32m   2608\u001b[0m \u001b[0;34m\u001b[0m\u001b[0m\n\u001b[1;32m   2609\u001b[0m         \u001b[0mrenderer\u001b[0m\u001b[0;34m.\u001b[0m\u001b[0mclose_group\u001b[0m\u001b[0;34m(\u001b[0m\u001b[0;34m'axes'\u001b[0m\u001b[0;34m)\u001b[0m\u001b[0;34m\u001b[0m\u001b[0m\n",
      "\u001b[0;32m~/anaconda3/lib/python3.6/site-packages/matplotlib/image.py\u001b[0m in \u001b[0;36m_draw_list_compositing_images\u001b[0;34m(renderer, parent, artists, suppress_composite)\u001b[0m\n\u001b[1;32m    139\u001b[0m     \u001b[0;32mif\u001b[0m \u001b[0mnot_composite\u001b[0m \u001b[0;32mor\u001b[0m \u001b[0;32mnot\u001b[0m \u001b[0mhas_images\u001b[0m\u001b[0;34m:\u001b[0m\u001b[0;34m\u001b[0m\u001b[0m\n\u001b[1;32m    140\u001b[0m         \u001b[0;32mfor\u001b[0m \u001b[0ma\u001b[0m \u001b[0;32min\u001b[0m \u001b[0martists\u001b[0m\u001b[0;34m:\u001b[0m\u001b[0;34m\u001b[0m\u001b[0m\n\u001b[0;32m--> 141\u001b[0;31m             \u001b[0ma\u001b[0m\u001b[0;34m.\u001b[0m\u001b[0mdraw\u001b[0m\u001b[0;34m(\u001b[0m\u001b[0mrenderer\u001b[0m\u001b[0;34m)\u001b[0m\u001b[0;34m\u001b[0m\u001b[0m\n\u001b[0m\u001b[1;32m    142\u001b[0m     \u001b[0;32melse\u001b[0m\u001b[0;34m:\u001b[0m\u001b[0;34m\u001b[0m\u001b[0m\n\u001b[1;32m    143\u001b[0m         \u001b[0;31m# Composite any adjacent images together\u001b[0m\u001b[0;34m\u001b[0m\u001b[0;34m\u001b[0m\u001b[0m\n",
      "\u001b[0;32m~/anaconda3/lib/python3.6/site-packages/matplotlib/artist.py\u001b[0m in \u001b[0;36mdraw_wrapper\u001b[0;34m(artist, renderer, *args, **kwargs)\u001b[0m\n\u001b[1;32m     53\u001b[0m                 \u001b[0mrenderer\u001b[0m\u001b[0;34m.\u001b[0m\u001b[0mstart_filter\u001b[0m\u001b[0;34m(\u001b[0m\u001b[0;34m)\u001b[0m\u001b[0;34m\u001b[0m\u001b[0m\n\u001b[1;32m     54\u001b[0m \u001b[0;34m\u001b[0m\u001b[0m\n\u001b[0;32m---> 55\u001b[0;31m             \u001b[0;32mreturn\u001b[0m \u001b[0mdraw\u001b[0m\u001b[0;34m(\u001b[0m\u001b[0martist\u001b[0m\u001b[0;34m,\u001b[0m \u001b[0mrenderer\u001b[0m\u001b[0;34m,\u001b[0m \u001b[0;34m*\u001b[0m\u001b[0margs\u001b[0m\u001b[0;34m,\u001b[0m \u001b[0;34m**\u001b[0m\u001b[0mkwargs\u001b[0m\u001b[0;34m)\u001b[0m\u001b[0;34m\u001b[0m\u001b[0m\n\u001b[0m\u001b[1;32m     56\u001b[0m         \u001b[0;32mfinally\u001b[0m\u001b[0;34m:\u001b[0m\u001b[0;34m\u001b[0m\u001b[0m\n\u001b[1;32m     57\u001b[0m             \u001b[0;32mif\u001b[0m \u001b[0martist\u001b[0m\u001b[0;34m.\u001b[0m\u001b[0mget_agg_filter\u001b[0m\u001b[0;34m(\u001b[0m\u001b[0;34m)\u001b[0m \u001b[0;32mis\u001b[0m \u001b[0;32mnot\u001b[0m \u001b[0;32mNone\u001b[0m\u001b[0;34m:\u001b[0m\u001b[0;34m\u001b[0m\u001b[0m\n",
      "\u001b[0;32m~/anaconda3/lib/python3.6/site-packages/matplotlib/axis.py\u001b[0m in \u001b[0;36mdraw\u001b[0;34m(self, renderer, *args, **kwargs)\u001b[0m\n\u001b[1;32m   1188\u001b[0m         \u001b[0mrenderer\u001b[0m\u001b[0;34m.\u001b[0m\u001b[0mopen_group\u001b[0m\u001b[0;34m(\u001b[0m\u001b[0m__name__\u001b[0m\u001b[0;34m)\u001b[0m\u001b[0;34m\u001b[0m\u001b[0m\n\u001b[1;32m   1189\u001b[0m \u001b[0;34m\u001b[0m\u001b[0m\n\u001b[0;32m-> 1190\u001b[0;31m         \u001b[0mticks_to_draw\u001b[0m \u001b[0;34m=\u001b[0m \u001b[0mself\u001b[0m\u001b[0;34m.\u001b[0m\u001b[0m_update_ticks\u001b[0m\u001b[0;34m(\u001b[0m\u001b[0mrenderer\u001b[0m\u001b[0;34m)\u001b[0m\u001b[0;34m\u001b[0m\u001b[0m\n\u001b[0m\u001b[1;32m   1191\u001b[0m         ticklabelBoxes, ticklabelBoxes2 = self._get_tick_bboxes(ticks_to_draw,\n\u001b[1;32m   1192\u001b[0m                                                                 renderer)\n",
      "\u001b[0;32m~/anaconda3/lib/python3.6/site-packages/matplotlib/axis.py\u001b[0m in \u001b[0;36m_update_ticks\u001b[0;34m(self, renderer)\u001b[0m\n\u001b[1;32m   1026\u001b[0m \u001b[0;34m\u001b[0m\u001b[0m\n\u001b[1;32m   1027\u001b[0m         \u001b[0minterval\u001b[0m \u001b[0;34m=\u001b[0m \u001b[0mself\u001b[0m\u001b[0;34m.\u001b[0m\u001b[0mget_view_interval\u001b[0m\u001b[0;34m(\u001b[0m\u001b[0;34m)\u001b[0m\u001b[0;34m\u001b[0m\u001b[0m\n\u001b[0;32m-> 1028\u001b[0;31m         \u001b[0mtick_tups\u001b[0m \u001b[0;34m=\u001b[0m \u001b[0mlist\u001b[0m\u001b[0;34m(\u001b[0m\u001b[0mself\u001b[0m\u001b[0;34m.\u001b[0m\u001b[0miter_ticks\u001b[0m\u001b[0;34m(\u001b[0m\u001b[0;34m)\u001b[0m\u001b[0;34m)\u001b[0m  \u001b[0;31m# iter_ticks calls the locator\u001b[0m\u001b[0;34m\u001b[0m\u001b[0m\n\u001b[0m\u001b[1;32m   1029\u001b[0m         \u001b[0;32mif\u001b[0m \u001b[0mself\u001b[0m\u001b[0;34m.\u001b[0m\u001b[0m_smart_bounds\u001b[0m \u001b[0;32mand\u001b[0m \u001b[0mtick_tups\u001b[0m\u001b[0;34m:\u001b[0m\u001b[0;34m\u001b[0m\u001b[0m\n\u001b[1;32m   1030\u001b[0m             \u001b[0;31m# handle inverted limits\u001b[0m\u001b[0;34m\u001b[0m\u001b[0;34m\u001b[0m\u001b[0m\n",
      "\u001b[0;32m~/anaconda3/lib/python3.6/site-packages/matplotlib/axis.py\u001b[0m in \u001b[0;36miter_ticks\u001b[0;34m(self)\u001b[0m\n\u001b[1;32m    969\u001b[0m         \u001b[0mIterate\u001b[0m \u001b[0mthrough\u001b[0m \u001b[0mall\u001b[0m \u001b[0mof\u001b[0m \u001b[0mthe\u001b[0m \u001b[0mmajor\u001b[0m \u001b[0;32mand\u001b[0m \u001b[0mminor\u001b[0m \u001b[0mticks\u001b[0m\u001b[0;34m.\u001b[0m\u001b[0;34m\u001b[0m\u001b[0m\n\u001b[1;32m    970\u001b[0m         \"\"\"\n\u001b[0;32m--> 971\u001b[0;31m         \u001b[0mmajorLocs\u001b[0m \u001b[0;34m=\u001b[0m \u001b[0mself\u001b[0m\u001b[0;34m.\u001b[0m\u001b[0mmajor\u001b[0m\u001b[0;34m.\u001b[0m\u001b[0mlocator\u001b[0m\u001b[0;34m(\u001b[0m\u001b[0;34m)\u001b[0m\u001b[0;34m\u001b[0m\u001b[0m\n\u001b[0m\u001b[1;32m    972\u001b[0m         \u001b[0mmajorTicks\u001b[0m \u001b[0;34m=\u001b[0m \u001b[0mself\u001b[0m\u001b[0;34m.\u001b[0m\u001b[0mget_major_ticks\u001b[0m\u001b[0;34m(\u001b[0m\u001b[0mlen\u001b[0m\u001b[0;34m(\u001b[0m\u001b[0mmajorLocs\u001b[0m\u001b[0;34m)\u001b[0m\u001b[0;34m)\u001b[0m\u001b[0;34m\u001b[0m\u001b[0m\n\u001b[1;32m    973\u001b[0m         \u001b[0mself\u001b[0m\u001b[0;34m.\u001b[0m\u001b[0mmajor\u001b[0m\u001b[0;34m.\u001b[0m\u001b[0mformatter\u001b[0m\u001b[0;34m.\u001b[0m\u001b[0mset_locs\u001b[0m\u001b[0;34m(\u001b[0m\u001b[0mmajorLocs\u001b[0m\u001b[0;34m)\u001b[0m\u001b[0;34m\u001b[0m\u001b[0m\n",
      "\u001b[0;32m~/anaconda3/lib/python3.6/site-packages/matplotlib/ticker.py\u001b[0m in \u001b[0;36m__call__\u001b[0;34m(self)\u001b[0m\n\u001b[1;32m   1943\u001b[0m     \u001b[0;32mdef\u001b[0m \u001b[0m__call__\u001b[0m\u001b[0;34m(\u001b[0m\u001b[0mself\u001b[0m\u001b[0;34m)\u001b[0m\u001b[0;34m:\u001b[0m\u001b[0;34m\u001b[0m\u001b[0m\n\u001b[1;32m   1944\u001b[0m         \u001b[0mvmin\u001b[0m\u001b[0;34m,\u001b[0m \u001b[0mvmax\u001b[0m \u001b[0;34m=\u001b[0m \u001b[0mself\u001b[0m\u001b[0;34m.\u001b[0m\u001b[0maxis\u001b[0m\u001b[0;34m.\u001b[0m\u001b[0mget_view_interval\u001b[0m\u001b[0;34m(\u001b[0m\u001b[0;34m)\u001b[0m\u001b[0;34m\u001b[0m\u001b[0m\n\u001b[0;32m-> 1945\u001b[0;31m         \u001b[0;32mreturn\u001b[0m \u001b[0mself\u001b[0m\u001b[0;34m.\u001b[0m\u001b[0mtick_values\u001b[0m\u001b[0;34m(\u001b[0m\u001b[0mvmin\u001b[0m\u001b[0;34m,\u001b[0m \u001b[0mvmax\u001b[0m\u001b[0;34m)\u001b[0m\u001b[0;34m\u001b[0m\u001b[0m\n\u001b[0m\u001b[1;32m   1946\u001b[0m \u001b[0;34m\u001b[0m\u001b[0m\n\u001b[1;32m   1947\u001b[0m     \u001b[0;32mdef\u001b[0m \u001b[0mtick_values\u001b[0m\u001b[0;34m(\u001b[0m\u001b[0mself\u001b[0m\u001b[0;34m,\u001b[0m \u001b[0mvmin\u001b[0m\u001b[0;34m,\u001b[0m \u001b[0mvmax\u001b[0m\u001b[0;34m)\u001b[0m\u001b[0;34m:\u001b[0m\u001b[0;34m\u001b[0m\u001b[0m\n",
      "\u001b[0;32m~/anaconda3/lib/python3.6/site-packages/matplotlib/ticker.py\u001b[0m in \u001b[0;36mtick_values\u001b[0;34m(self, vmin, vmax)\u001b[0m\n\u001b[1;32m   1951\u001b[0m         vmin, vmax = mtransforms.nonsingular(\n\u001b[1;32m   1952\u001b[0m             vmin, vmax, expander=1e-13, tiny=1e-14)\n\u001b[0;32m-> 1953\u001b[0;31m         \u001b[0mlocs\u001b[0m \u001b[0;34m=\u001b[0m \u001b[0mself\u001b[0m\u001b[0;34m.\u001b[0m\u001b[0m_raw_ticks\u001b[0m\u001b[0;34m(\u001b[0m\u001b[0mvmin\u001b[0m\u001b[0;34m,\u001b[0m \u001b[0mvmax\u001b[0m\u001b[0;34m)\u001b[0m\u001b[0;34m\u001b[0m\u001b[0m\n\u001b[0m\u001b[1;32m   1954\u001b[0m \u001b[0;34m\u001b[0m\u001b[0m\n\u001b[1;32m   1955\u001b[0m         \u001b[0mprune\u001b[0m \u001b[0;34m=\u001b[0m \u001b[0mself\u001b[0m\u001b[0;34m.\u001b[0m\u001b[0m_prune\u001b[0m\u001b[0;34m\u001b[0m\u001b[0m\n",
      "\u001b[0;32m~/anaconda3/lib/python3.6/site-packages/matplotlib/ticker.py\u001b[0m in \u001b[0;36m_raw_ticks\u001b[0;34m(self, vmin, vmax)\u001b[0m\n\u001b[1;32m   1897\u001b[0m         \u001b[0;32mif\u001b[0m \u001b[0mself\u001b[0m\u001b[0;34m.\u001b[0m\u001b[0m_nbins\u001b[0m \u001b[0;34m==\u001b[0m \u001b[0;34m'auto'\u001b[0m\u001b[0;34m:\u001b[0m\u001b[0;34m\u001b[0m\u001b[0m\n\u001b[1;32m   1898\u001b[0m             \u001b[0;32mif\u001b[0m \u001b[0mself\u001b[0m\u001b[0;34m.\u001b[0m\u001b[0maxis\u001b[0m \u001b[0;32mis\u001b[0m \u001b[0;32mnot\u001b[0m \u001b[0;32mNone\u001b[0m\u001b[0;34m:\u001b[0m\u001b[0;34m\u001b[0m\u001b[0m\n\u001b[0;32m-> 1899\u001b[0;31m                 nbins = np.clip(self.axis.get_tick_space(),\n\u001b[0m\u001b[1;32m   1900\u001b[0m                                 max(1, self._min_n_ticks - 1), 9)\n\u001b[1;32m   1901\u001b[0m             \u001b[0;32melse\u001b[0m\u001b[0;34m:\u001b[0m\u001b[0;34m\u001b[0m\u001b[0m\n",
      "\u001b[0;32m~/anaconda3/lib/python3.6/site-packages/matplotlib/axis.py\u001b[0m in \u001b[0;36mget_tick_space\u001b[0;34m(self)\u001b[0m\n\u001b[1;32m   2127\u001b[0m         \u001b[0msize\u001b[0m \u001b[0;34m=\u001b[0m \u001b[0mtick\u001b[0m\u001b[0;34m.\u001b[0m\u001b[0mlabel1\u001b[0m\u001b[0;34m.\u001b[0m\u001b[0mget_size\u001b[0m\u001b[0;34m(\u001b[0m\u001b[0;34m)\u001b[0m \u001b[0;34m*\u001b[0m \u001b[0;36m3\u001b[0m\u001b[0;34m\u001b[0m\u001b[0m\n\u001b[1;32m   2128\u001b[0m         \u001b[0;32mif\u001b[0m \u001b[0msize\u001b[0m \u001b[0;34m>\u001b[0m \u001b[0;36m0\u001b[0m\u001b[0;34m:\u001b[0m\u001b[0;34m\u001b[0m\u001b[0m\n\u001b[0;32m-> 2129\u001b[0;31m             \u001b[0;32mreturn\u001b[0m \u001b[0mint\u001b[0m\u001b[0;34m(\u001b[0m\u001b[0mnp\u001b[0m\u001b[0;34m.\u001b[0m\u001b[0mfloor\u001b[0m\u001b[0;34m(\u001b[0m\u001b[0mlength\u001b[0m \u001b[0;34m/\u001b[0m \u001b[0msize\u001b[0m\u001b[0;34m)\u001b[0m\u001b[0;34m)\u001b[0m\u001b[0;34m\u001b[0m\u001b[0m\n\u001b[0m\u001b[1;32m   2130\u001b[0m         \u001b[0;32melse\u001b[0m\u001b[0;34m:\u001b[0m\u001b[0;34m\u001b[0m\u001b[0m\n\u001b[1;32m   2131\u001b[0m             \u001b[0;32mreturn\u001b[0m \u001b[0;36m2\u001b[0m\u001b[0;34m**\u001b[0m\u001b[0;36m31\u001b[0m \u001b[0;34m-\u001b[0m \u001b[0;36m1\u001b[0m\u001b[0;34m\u001b[0m\u001b[0m\n",
      "\u001b[0;31mValueError\u001b[0m: cannot convert float NaN to integer"
     ]
    },
    {
     "data": {
      "text/plain": [
       "<Figure size 432x288 with 1 Axes>"
      ]
     },
     "metadata": {},
     "output_type": "display_data"
    }
   ],
   "source": [
    "plt.scatter(pca_df.PC1, pca_df.PC2)\n",
    "plt.title('My PCA Graph')\n",
    "plt.xlabel('PC1 - {0}%'.format(per_var[0]))\n",
    "plt.ylabel('PC2 - {0}%'.format(per_var[1]))\n",
    " \n",
    "for sample in pca_df.index:\n",
    "    plt.annotate(sample, (pca_df.PC1.loc[sample], pca_df.PC2.loc[sample]))\n",
    " \n",
    "plt.show()"
   ]
  },
  {
   "cell_type": "code",
   "execution_count": 150,
   "metadata": {},
   "outputs": [
    {
     "data": {
      "text/plain": [
       "array(['HUMEDAD', 'AZUCARES', 'ETEREO', 'FIBRA', 'PROTEINA', 'CENIZA'],\n",
       "      dtype=object)"
      ]
     },
     "execution_count": 150,
     "metadata": {},
     "output_type": "execute_result"
    }
   ],
   "source": [
    "X.columns.values"
   ]
  },
  {
   "cell_type": "code",
   "execution_count": 65,
   "metadata": {},
   "outputs": [
    {
     "name": "stdout",
     "output_type": "stream",
     "text": [
      "       wt1  wt2  wt3  wt4  wt5  ko1  ko2  ko3  ko4  ko5\n",
      "gene1  675  613  669  664  653  457  460  455  452  460\n",
      "gene2  803  743  773  764  766  958  932  951  931  935\n",
      "gene3  542  517  525  516  535  114  116   93   99  110\n",
      "gene4  153  140  133  124  138  772  788  760  750  776\n",
      "gene5  678  681  645  655  671   42   56   48   50   38\n",
      "(100, 10)\n"
     ]
    }
   ],
   "source": [
    "genes = ['gene' + str(i) for i in range(1,101)]\n",
    " \n",
    "wt = ['wt' + str(i) for i in range(1,6)]\n",
    "ko = ['ko' + str(i) for i in range(1,6)]\n",
    " \n",
    "data = pd.DataFrame(columns=[*wt, *ko], index=genes)\n",
    " \n",
    "for gene in data.index:\n",
    "    data.loc[gene,'wt1':'wt5'] = np.random.poisson(lam=rd.randrange(10,1000), size=5)\n",
    "    data.loc[gene,'ko1':'ko5'] = np.random.poisson(lam=rd.randrange(10,1000), size=5)\n",
    " \n",
    "print(data.head())\n",
    "print(data.shape)"
   ]
  },
  {
   "cell_type": "code",
   "execution_count": 66,
   "metadata": {},
   "outputs": [],
   "source": [
    "scaled_data = preprocessing.scale(data.T)"
   ]
  },
  {
   "cell_type": "code",
   "execution_count": 68,
   "metadata": {},
   "outputs": [
    {
     "data": {
      "text/plain": [
       "array([[ 1.18902166, -0.60296524,  1.07022474, -0.95061083,  1.0381356 ,\n",
       "         1.38923218, -0.8999574 ,  1.05269942,  1.05570394,  1.0510234 ,\n",
       "        -1.05058812, -0.96763465,  0.94757575, -0.98448158, -0.98954699,\n",
       "         1.03473662, -0.79721833,  1.0108197 , -0.54255417, -1.3080967 ,\n",
       "        -0.96754479,  0.99758683, -0.95400049, -1.2832722 , -0.96185491,\n",
       "         1.00686687,  0.53757439,  1.00541014,  0.95471574,  1.33747484,\n",
       "        -1.00981758,  1.17770514, -1.11072841,  0.982065  , -1.02090991,\n",
       "        -1.02090558,  0.6281501 ,  1.0211297 , -1.01202348, -0.98402526,\n",
       "         0.93162402, -0.68439835, -1.71851069,  0.61719755, -0.95082809,\n",
       "         0.74595357, -0.93630247,  1.10851503,  1.12026475, -1.00957697,\n",
       "        -0.72384684,  1.01246956,  0.96989891,  0.74471014,  1.09693333,\n",
       "         1.17475642, -1.05844156, -0.94040494,  1.00718242, -1.03411659,\n",
       "        -0.93337813, -1.00767547,  0.99201709,  0.6927769 ,  0.8515828 ,\n",
       "        -0.42837419,  1.09205086,  1.06781202, -0.57448265,  1.05501491,\n",
       "        -0.93510325, -1.04856784,  1.03879232,  0.94015069, -1.56644664,\n",
       "         0.86641583,  0.91508251,  0.49351072, -0.44891843,  1.18757639,\n",
       "         0.02489134,  0.67222001, -1.01046573, -1.03838826, -1.31436921,\n",
       "        -0.96771982,  1.06360868, -0.91467341,  0.93728794,  0.93910789,\n",
       "         1.05622489,  0.97464839,  0.85538428,  0.31508644, -1.25329867,\n",
       "        -0.90753339, -0.49441046, -0.80573405, -1.04554668, -0.87746721],\n",
       "       [ 0.5705708 , -1.29075828,  0.95146922, -0.99174911,  1.0478197 ,\n",
       "         0.44615028, -1.0544277 ,  0.94064389,  0.36396245,  0.89326472,\n",
       "        -0.98443018, -1.02312435,  1.10474577, -0.94467008, -1.00167379,\n",
       "         1.06113909, -0.93060106,  1.04531867, -0.78111441, -0.59954432,\n",
       "        -0.9723465 ,  1.01954801, -1.00873132, -0.83367733, -1.02306386,\n",
       "         0.94657544, -1.75074903,  1.06798753,  1.04869067,  0.78349118,\n",
       "        -0.95486832,  0.9173155 , -0.85107761,  0.99229484, -1.02714638,\n",
       "        -1.17465642,  1.32416129,  0.87096357, -1.02670113, -0.98713336,\n",
       "         0.99747248, -1.7810604 , -0.86314338,  0.73941489, -0.93226931,\n",
       "         0.97333993, -0.93630247,  0.8779439 ,  1.16534583, -0.93660429,\n",
       "        -0.21088451,  1.04633142,  1.00017671,  1.13781227,  1.39156418,\n",
       "         0.92631851, -0.01948052, -1.00593839,  1.00151932, -0.85491634,\n",
       "        -0.99922996, -0.99852103,  0.91251438,  0.6927769 ,  0.93419657,\n",
       "        -1.36833196,  0.98679295,  0.89475105, -0.72767802,  1.05992653,\n",
       "        -1.02973191, -0.96170092,  0.92145365,  1.03363158, -0.87739387,\n",
       "         1.25287999,  0.74647435,  0.87008516, -1.28319161,  1.07639311,\n",
       "        -0.47293541, -0.91391709, -0.95935143, -0.99545008,  1.25305752,\n",
       "        -1.03966924,  0.89859846, -0.96816308,  0.97936072,  0.79318658,\n",
       "         1.06351675,  0.93502853,  1.11403179,  1.07792731, -1.2123412 ,\n",
       "        -1.0120242 , -1.38905797, -1.00817979, -0.98397149, -0.97032088],\n",
       "       [ 1.12917158, -0.94686176,  0.98947099, -1.01390049,  0.93161049,\n",
       "         1.42550456, -1.2894912 ,  0.97177043,  1.46010665,  1.11062113,\n",
       "        -0.58748253, -0.93856862,  0.99996576, -1.0754793 , -0.99561039,\n",
       "         0.83551802, -0.7664377 ,  0.8038259 , -1.03330668, -0.54504029,\n",
       "        -1.0587773 ,  0.95915475, -1.01294139, -1.11627982, -1.01869179,\n",
       "         1.54948974,  0.39228402,  0.9671684 ,  0.98604072,  1.13962353,\n",
       "        -1.04478529,  0.90243609, -1.08187832,  1.11505297, -0.95854523,\n",
       "         0.70110383,  0.6716508 ,  0.95929658, -1.00468466, -1.01510628,\n",
       "         1.05015125, -0.58285557, -0.5261805 ,  0.9685724 , -1.04671511,\n",
       "         1.06808424, -0.9477208 ,  1.04643818,  0.87231883, -1.0132256 ,\n",
       "        -1.21781056,  1.00823683,  0.90429701,  1.57459241,  0.57566336,\n",
       "         0.2164959 , -0.8961039 , -1.03142362,  1.00718242, -1.06034102,\n",
       "        -1.01927182, -0.95732603,  1.12746614, -0.02927226,  1.06307406,\n",
       "        -1.16801309,  0.92664557,  1.02390103, -1.37875836,  0.85855031,\n",
       "        -1.00965917, -0.99812898,  0.75579906,  1.05766952, -0.4639622 ,\n",
       "         0.91794439,  1.42857103,  1.36557785, -0.96537325,  0.95826088,\n",
       "        -0.72184879,  2.25835711, -0.98490858, -1.00260644, -1.2760494 ,\n",
       "        -1.38142903,  0.90802762, -0.9605217 ,  1.07285577,  1.23095052,\n",
       "         0.84840709,  1.00106162,  0.50436265,  1.37643026, -0.67989405,\n",
       "        -1.05812308, -0.80832187, -1.02842437, -0.93471134, -0.85425379],\n",
       "       [ 1.07929651, -1.05003072,  0.946719  , -1.04238085,  0.96389083,\n",
       "         0.24665219, -0.7924998 ,  1.06515003,  0.74708081,  0.95636819,\n",
       "        -0.69333523, -1.04426328,  1.00907706, -0.95035744, -1.00773719,\n",
       "         0.90512452, -1.25892778,  0.85557435, -1.21733887, -1.19908864,\n",
       "        -0.99635505,  0.98660623, -0.98347094, -1.10343425, -1.00120352,\n",
       "         0.74560401,  0.06538067,  0.99150405,  0.99300182,  0.90220196,\n",
       "        -0.98733834,  1.0103118 , -0.76452734,  0.98888489, -1.00843698,\n",
       "         0.70110383,  0.95005528,  1.05646291, -0.98633761, -1.00578198,\n",
       "         1.00537429, -0.60316413, -0.83722316,  1.35050158, -1.00031816,\n",
       "         1.15651227, -1.07332235,  0.9666251 ,  0.78215668, -1.00957697,\n",
       "        -1.33180219,  0.96590951,  1.12128792,  0.81022716,  0.76830661,\n",
       "         1.06828303, -1.35064935, -1.00957913,  1.02983482, -1.02537511,\n",
       "        -0.95055687, -1.00309825,  0.94784892,  2.05881585,  1.0201149 ,\n",
       "        -0.59787477,  1.04318111,  0.98515603, -1.1489653 ,  1.06483814,\n",
       "        -1.00105656, -0.96730523,  1.28382306,  0.95617598, -0.09646739,\n",
       "         0.87745767,  1.0990187 ,  0.90972458, -0.05164548,  0.82623074,\n",
       "        -0.22402204,  1.0498717 , -1.02643894, -0.98829372,  1.21473772,\n",
       "        -0.44608646,  1.06832325, -0.94523894,  0.92326368,  0.88699314,\n",
       "         0.90309598,  0.96144177,  1.33572966,  0.28191945, -0.72085152,\n",
       "        -0.99358464, -1.04375542, -0.90695692, -0.92239631, -0.97032088],\n",
       "       [ 0.96957136, -1.02710428,  1.03697319, -0.99807808,  1.01553937,\n",
       "         0.89955504, -0.8663769 ,  0.96554512,  1.06634611,  0.98090843,\n",
       "        -1.4210726 , -1.01783961,  0.93390879, -1.01291837, -0.99561039,\n",
       "         1.14754715, -1.14606547,  1.18331453, -1.28549894, -1.18092063,\n",
       "        -0.99155334,  1.0305286 , -1.03399171, -0.3327002 , -0.98808732,\n",
       "         0.58482687, -1.49649087,  0.96369187,  1.01388514,  0.74392091,\n",
       "        -0.99483142,  0.97683313, -1.03860318,  0.91386604, -0.97725463,\n",
       "        -1.75890961,  1.28936073,  1.08296281, -0.96432114, -1.00267387,\n",
       "         1.01327611, -1.04995237, -0.55210072,  1.1518984 , -1.06218076,\n",
       "         1.01755394, -1.07332235,  0.97549322,  1.0301026 , -1.02052287,\n",
       "        -1.10381893,  0.95744404,  0.98503781,  0.37344702,  0.98361377,\n",
       "         1.10377416,  0.72727273, -0.9913754 ,  0.95338296, -0.99915069,\n",
       "        -1.0908499 , -1.03056158,  1.0126289 ,  0.53665816,  1.11925143,\n",
       "        -1.10637651,  0.9379232 ,  1.02390103, -0.86810711,  0.951871  ,\n",
       "        -1.00965917, -1.01774409,  0.95251389,  1.00959363, -1.19895183,\n",
       "         1.05780761,  0.71581831,  1.2268399 , -0.6078276 ,  0.9235161 ,\n",
       "        -1.71750229, -0.08308337, -1.01685501, -0.94535554,  1.29137732,\n",
       "        -0.75187153,  1.04003579, -1.16683901,  1.07753053,  1.03291445,\n",
       "         1.11455972,  1.10011126,  0.94775839,  1.50909823, -1.03212832,\n",
       "        -1.0120242 , -0.93388643, -0.82597863, -0.94702638, -1.15602823],\n",
       "       [-0.98553138,  1.17383347, -0.96286975,  1.00820442, -1.01489376,\n",
       "        -1.31306018,  1.1686014 , -0.96430006, -0.77475047, -1.02437972,\n",
       "         1.2120135 ,  0.96393534, -1.00452141,  0.77859924,  0.98712163,\n",
       "        -1.02225546,  0.87519592, -0.73137808,  0.89562333,  1.01740855,\n",
       "         1.08278585, -1.08323545,  0.98262893,  0.25819591,  0.98371525,\n",
       "        -0.94255602,  0.82815514, -1.00749605, -1.057044  , -0.97079041,\n",
       "         1.11072441, -0.92029138,  0.53372664, -0.94455557,  0.93110477,\n",
       "         0.20910114, -0.91177466, -1.00169643,  1.03917712,  1.07353861,\n",
       "        -0.99905284,  0.91997761,  0.0699846 , -1.13967667,  0.92360854,\n",
       "        -1.06682099,  1.15325061, -0.88681202, -0.95346477,  0.90230714,\n",
       "         1.10001921, -1.02347467, -1.03348229, -0.71850333, -1.20345371,\n",
       "        -0.56430898,  0.82467532,  1.14938382, -0.9833974 ,  0.89774957,\n",
       "         1.03931368,  0.98799341, -0.96904964, -0.185391  , -0.99566122,\n",
       "         0.75812987, -0.9379232 , -1.00117063,  1.39152464, -1.01768664,\n",
       "         0.89151671,  0.93816278, -1.08710824, -0.99356834,  1.37351187,\n",
       "        -1.02541823, -1.07755948, -1.1317053 ,  0.38535476, -0.97354858,\n",
       "         1.76728497, -1.21603845,  0.99257572,  0.75070247,  0.37170208,\n",
       "         1.13680097, -1.11452611,  0.66709264, -1.0401325 , -1.10379052,\n",
       "        -1.01466133, -0.76862515, -1.1029469 , -0.5804224 ,  0.86010693,\n",
       "         0.93027551,  0.29036805,  1.25921251,  1.29431044,  0.74747207],\n",
       "       [-0.95560634,  0.87578981, -0.95336931,  1.05883616, -0.96970129,\n",
       "        -1.54883066,  0.8395125 , -1.05145436, -0.49805387, -1.00685097,\n",
       "         0.28580231,  0.92165747, -1.01135489,  1.21083841,  0.90223402,\n",
       "        -0.99105254,  1.13170118, -0.67962963,  0.8615433 ,  0.90840049,\n",
       "         1.06838072, -0.92401686,  0.9742088 ,  1.33722358,  1.01431972,\n",
       "        -0.86216744, -0.33416786, -1.07702649, -0.93522464, -1.18183181,\n",
       "         0.89092736, -1.00956783,  1.34152911, -1.01616448,  0.9435777 ,\n",
       "         1.19310652, -1.0509769 , -1.02819634,  0.89240069,  1.00205225,\n",
       "        -1.01485647,  0.71689204,  0.87351147, -1.09384517,  1.09063755,\n",
       "        -0.96576038,  1.02764906, -0.99322946, -0.99854585,  1.15406287,\n",
       "         1.55598572, -0.93882002, -1.00320449, -0.78402035, -0.52353636,\n",
       "        -0.49332672, -0.37662338,  1.09841336, -1.0117129 ,  1.12939868,\n",
       "         1.03072431,  0.99943647, -1.02205144, -0.38053942, -0.98905212,\n",
       "         1.23581332, -1.0394219 , -1.01925163,  0.31915703, -0.92927757,\n",
       "         1.14099228,  0.99420596, -1.10091279, -0.99623922, -0.09646739,\n",
       "        -0.9812509 , -0.89362329, -0.79477027,  0.38535476, -0.94575276,\n",
       "         1.51837159, -0.83838675,  1.02452216,  1.13714607,  0.06514366,\n",
       "         1.15478833, -0.9070847 ,  1.1026514 , -0.90923942, -0.67644952,\n",
       "        -1.04018282, -0.99974096, -1.28769512, -1.01159332,  1.15500074,\n",
       "         1.12696409,  0.60427946,  0.02429349,  0.8879142 ,  0.74747207],\n",
       "       [-1.00548141,  1.09359094, -1.06262439,  0.97023062, -0.99552556,\n",
       "        -0.44252304,  1.074576  , -0.99542659, -1.1259423 , -0.95426475,\n",
       "         0.97384491,  1.09869603, -1.00679923,  0.90940846,  1.15992855,\n",
       "        -0.98385187,  1.2548237 , -1.28336153,  1.2500557 ,  1.23542466,\n",
       "         0.80908832, -1.06127426,  0.91105784,  1.1702312 ,  0.90501803,\n",
       "        -1.06313888,  0.10170326, -0.99706648, -0.97351073, -0.73336885,\n",
       "         0.96086278, -1.06536561,  1.32710407, -1.04344406,  0.97476005,\n",
       "         0.42435232, -1.17277886, -0.93103002,  1.08321005,  0.98651174,\n",
       "        -0.99115103,  1.14337173,  1.21047435, -1.17023101,  1.03496122,\n",
       "        -0.80785319,  1.08474067, -1.17059187, -1.088708  ,  0.94244211,\n",
       "         0.87203596, -0.95575095, -1.1243157 , -1.52654659, -1.19212176,\n",
       "        -0.45783558, -0.76623377,  0.93822049, -1.00321825,  0.88900809,\n",
       "         0.97346185,  0.94222119, -0.96610509, -1.70754869, -0.97252936,\n",
       "         1.12794932, -0.98679295, -0.97792364,  1.1489653 , -1.01277502,\n",
       "         1.02915841,  0.96338221, -0.97322071, -1.00959363,  1.46538557,\n",
       "        -1.02173762, -1.06989547, -0.91368852, -0.72700949, -0.99439544,\n",
       "        -0.22402204, -0.23414405,  0.95424   ,  1.1299897 , -0.39469396,\n",
       "         0.00359747, -0.84108062,  1.03387897, -0.95598695, -1.09336757,\n",
       "        -0.9964317 , -1.0327575 , -1.13989654, -1.07792731,  0.99936234,\n",
       "         0.84729751,  1.16931999,  1.70459315,  1.25736533,  0.56176472],\n",
       "       [-1.03540645,  0.86432659, -1.03412306,  0.93858579, -0.98906949,\n",
       "        -0.69642971,  1.1887497 , -0.98297598, -1.44520761, -1.00334522,\n",
       "         1.04000285,  1.07227237, -0.97718749,  0.95490732,  1.00228013,\n",
       "        -0.99825321,  0.65973151, -1.23161308,  1.11373556,  0.9265685 ,\n",
       "         1.01076019, -1.0063713 ,  1.00367925,  1.10600336,  1.12362142,\n",
       "        -0.76168173,  1.84518778, -0.94839518, -1.03964124, -0.93122015,\n",
       "         0.97584895, -0.96120975,  0.89435274, -0.94455557,  1.13690823,\n",
       "        -0.52890289, -0.73777186, -0.98402983,  1.01349125,  1.04556569,\n",
       "        -1.01485647,  0.81843482,  1.0290328 , -0.48275848,  0.9916574 ,\n",
       "        -1.12998386,  0.71935434, -1.07304254, -0.97600531,  0.97892845,\n",
       "         0.49206386, -1.1462239 , -0.81144508, -1.04608844, -0.82949917,\n",
       "        -1.77100742,  1.27922078,  1.00375394, -1.0003867 ,  1.16436458,\n",
       "         1.03358744,  1.07038341, -1.02205144, -0.90744016, -0.99566122,\n",
       "         1.23581332, -0.89281266, -1.00117063,  1.16173158, -1.00786341,\n",
       "         1.05783376,  0.97459085, -0.90074683, -1.02027716,  0.77633279,\n",
       "        -0.97757029, -0.97026337, -0.97314764,  1.14017335, -1.14727245,\n",
       "         0.64717478, -0.23414405,  0.98299179,  0.88667337,  0.06514366,\n",
       "         1.31667455, -1.0956678 ,  1.11793417, -1.01208399, -0.66602657,\n",
       "        -0.97455614, -0.97332773, -0.32700436, -0.64675639,  0.761809  ,\n",
       "         1.09930475,  1.29488455,  0.89481018,  1.0849548 ,  1.44387461],\n",
       "       [-0.95560634,  0.91017946, -0.98187063,  1.02086236, -1.02780589,\n",
       "        -0.40625066,  0.6313134 , -1.0016519 , -0.84924571, -1.00334522,\n",
       "         1.22524509,  0.9348693 , -0.9954101 ,  1.11415333,  0.93861442,\n",
       "        -0.98865232,  0.97779803, -0.97287084,  0.73885517,  0.7448884 ,\n",
       "         1.0155619 , -0.91852656,  1.12156104,  0.79770974,  0.96622698,\n",
       "        -1.20381888, -0.18887749, -0.96577779, -0.99091349, -1.0895012 ,\n",
       "         1.05327745, -1.02816709,  0.7501023 , -1.04344406,  1.00594239,\n",
       "         1.25460685, -0.99007592, -1.04586294,  0.96578891,  0.88705246,\n",
       "        -0.97798133,  1.10275461,  1.31415524, -0.9410735 ,  0.95144671,\n",
       "        -0.99102553,  0.98197576, -0.85133954, -0.95346477,  1.01176615,\n",
       "         0.56805828, -0.92612182, -1.00825079, -0.56563028, -1.06747024,\n",
       "        -1.20314933,  1.63636364,  0.78894987, -1.0003867 ,  0.89337883,\n",
       "         0.91619939,  0.99714786, -1.01321781, -0.77083627, -1.03531583,\n",
       "         0.3112647 , -1.12964297, -0.99600463,  0.6766129 , -1.02259825,\n",
       "         0.8657089 ,  1.12310526, -0.89039341, -0.97754304,  0.68445909,\n",
       "        -0.96652845, -0.89362329, -1.05242647,  2.173083  , -0.91100799,\n",
       "        -0.5973921 , -0.46073506,  1.04369002,  1.06558244, -1.2760494 ,\n",
       "         0.97491476, -1.02023456,  1.03387897, -1.07285577, -1.34351839,\n",
       "        -0.95997244, -1.19784023, -0.89972385, -1.24376228,  1.12223476,\n",
       "         0.97944765,  1.31058012,  0.69236444,  0.30910744,  1.32780752]])"
      ]
     },
     "execution_count": 68,
     "metadata": {},
     "output_type": "execute_result"
    }
   ],
   "source": [
    "scaled_data"
   ]
  },
  {
   "cell_type": "code",
   "execution_count": 69,
   "metadata": {},
   "outputs": [
    {
     "data": {
      "image/png": "[encoded data removed]",
      "text/plain": [
       "<Figure size 432x288 with 1 Axes>"
      ]
     },
     "metadata": {},
     "output_type": "display_data"
    }
   ],
   "source": [
    "pca = PCA() # create a PCA object\n",
    "pca.fit(scaled_data) # do the math\n",
    "pca_data = pca.transform(scaled_data) # get PCA coordinates for scaled_data\n",
    " \n",
    "#########################\n",
    "#\n",
    "# Draw a scree plot and a PCA plot\n",
    "#\n",
    "#########################\n",
    " \n",
    "#The following code constructs the Scree plot\n",
    "per_var = np.round(pca.explained_variance_ratio_* 100, decimals=1)\n",
    "labels = ['PC' + str(x) for x in range(1, len(per_var)+1)]\n",
    " \n",
    "plt.bar(x=range(1,len(per_var)+1), height=per_var, tick_label=labels)\n",
    "plt.ylabel('Percentage of Explained Variance')\n",
    "plt.xlabel('Principal Component')\n",
    "plt.title('Scree Plot')\n",
    "plt.show()"
   ]
  },
  {
   "cell_type": "code",
   "execution_count": 70,
   "metadata": {},
   "outputs": [
    {
     "data": {
      "image/png": "[encoded data removed]",
      "text/plain": [
       "<Figure size 432x288 with 1 Axes>"
      ]
     },
     "metadata": {},
     "output_type": "display_data"
    }
   ],
   "source": [
    "#the following code makes a fancy looking plot using PC1 and PC2\n",
    "pca_df = pd.DataFrame(pca_data, index=[*wt, *ko], columns=labels)\n",
    " \n",
    "plt.scatter(pca_df.PC1, pca_df.PC2)\n",
    "plt.title('My PCA Graph')\n",
    "plt.xlabel('PC1 - {0}%'.format(per_var[0]))\n",
    "plt.ylabel('PC2 - {0}%'.format(per_var[1]))\n",
    " \n",
    "for sample in pca_df.index:\n",
    "    plt.annotate(sample, (pca_df.PC1.loc[sample], pca_df.PC2.loc[sample]))\n",
    " \n",
    "plt.show()"
   ]
  },
  {
   "cell_type": "code",
   "execution_count": 169,
   "metadata": {},
   "outputs": [
    {
     "data": {
      "text/html": [
       "<div>\n",
       "<style scoped>\n",
       "    .dataframe tbody tr th:only-of-type {\n",
       "        vertical-align: middle;\n",
       "    }\n",
       "\n",
       "    .dataframe tbody tr th {\n",
       "        vertical-align: top;\n",
       "    }\n",
       "\n",
       "    .dataframe thead th {\n",
       "        text-align: right;\n",
       "    }\n",
       "</style>\n",
       "<table border=\"1\" class=\"dataframe\">\n",
       "  <thead>\n",
       "    <tr style=\"text-align: right;\">\n",
       "      <th></th>\n",
       "      <th>MUESTRA</th>\n",
       "      <th>HUMEDAD</th>\n",
       "      <th>AZUCARES</th>\n",
       "      <th>ETEREO</th>\n",
       "      <th>FIBRA</th>\n",
       "      <th>PROTEINA</th>\n",
       "      <th>CENIZA</th>\n",
       "      <th>Cluster</th>\n",
       "    </tr>\n",
       "  </thead>\n",
       "  <tbody>\n",
       "    <tr>\n",
       "      <th>0</th>\n",
       "      <td>PaSAC50</td>\n",
       "      <td>8.171828</td>\n",
       "      <td>10.844601</td>\n",
       "      <td>1.875403</td>\n",
       "      <td>22.001089</td>\n",
       "      <td>16.0300</td>\n",
       "      <td>6.879787</td>\n",
       "      <td>1</td>\n",
       "    </tr>\n",
       "    <tr>\n",
       "      <th>1</th>\n",
       "      <td>PaSAC50</td>\n",
       "      <td>8.047318</td>\n",
       "      <td>12.782585</td>\n",
       "      <td>1.872500</td>\n",
       "      <td>21.374351</td>\n",
       "      <td>16.1560</td>\n",
       "      <td>7.010996</td>\n",
       "      <td>1</td>\n",
       "    </tr>\n",
       "    <tr>\n",
       "      <th>2</th>\n",
       "      <td>PaSAC50</td>\n",
       "      <td>7.983207</td>\n",
       "      <td>13.015447</td>\n",
       "      <td>1.877934</td>\n",
       "      <td>22.001089</td>\n",
       "      <td>16.0560</td>\n",
       "      <td>6.940326</td>\n",
       "      <td>1</td>\n",
       "    </tr>\n",
       "    <tr>\n",
       "      <th>3</th>\n",
       "      <td>PaSAC50</td>\n",
       "      <td>8.071828</td>\n",
       "      <td>11.947515</td>\n",
       "      <td>1.876403</td>\n",
       "      <td>21.743508</td>\n",
       "      <td>16.0300</td>\n",
       "      <td>6.979787</td>\n",
       "      <td>1</td>\n",
       "    </tr>\n",
       "    <tr>\n",
       "      <th>4</th>\n",
       "      <td>PaSAC50</td>\n",
       "      <td>8.097318</td>\n",
       "      <td>11.933919</td>\n",
       "      <td>1.873500</td>\n",
       "      <td>21.901089</td>\n",
       "      <td>16.0860</td>\n",
       "      <td>7.000996</td>\n",
       "      <td>1</td>\n",
       "    </tr>\n",
       "    <tr>\n",
       "      <th>5</th>\n",
       "      <td>PaSAC50</td>\n",
       "      <td>7.983207</td>\n",
       "      <td>13.662424</td>\n",
       "      <td>1.876934</td>\n",
       "      <td>21.843508</td>\n",
       "      <td>16.0760</td>\n",
       "      <td>6.990326</td>\n",
       "      <td>1</td>\n",
       "    </tr>\n",
       "    <tr>\n",
       "      <th>6</th>\n",
       "      <td>PaSAC50</td>\n",
       "      <td>8.121828</td>\n",
       "      <td>14.887668</td>\n",
       "      <td>1.875403</td>\n",
       "      <td>21.701089</td>\n",
       "      <td>16.0400</td>\n",
       "      <td>6.909787</td>\n",
       "      <td>1</td>\n",
       "    </tr>\n",
       "    <tr>\n",
       "      <th>7</th>\n",
       "      <td>PaSAC50</td>\n",
       "      <td>8.147318</td>\n",
       "      <td>11.850996</td>\n",
       "      <td>1.875500</td>\n",
       "      <td>21.991089</td>\n",
       "      <td>16.1260</td>\n",
       "      <td>6.996335</td>\n",
       "      <td>1</td>\n",
       "    </tr>\n",
       "    <tr>\n",
       "      <th>8</th>\n",
       "      <td>PaSAC50</td>\n",
       "      <td>8.083207</td>\n",
       "      <td>11.167006</td>\n",
       "      <td>1.877934</td>\n",
       "      <td>21.574351</td>\n",
       "      <td>16.0960</td>\n",
       "      <td>6.983259</td>\n",
       "      <td>1</td>\n",
       "    </tr>\n",
       "    <tr>\n",
       "      <th>9</th>\n",
       "      <td>PaSAC80</td>\n",
       "      <td>7.334711</td>\n",
       "      <td>14.590271</td>\n",
       "      <td>1.976403</td>\n",
       "      <td>20.350833</td>\n",
       "      <td>14.6750</td>\n",
       "      <td>5.981738</td>\n",
       "      <td>2</td>\n",
       "    </tr>\n",
       "    <tr>\n",
       "      <th>10</th>\n",
       "      <td>PaSAC80</td>\n",
       "      <td>7.236623</td>\n",
       "      <td>13.748634</td>\n",
       "      <td>1.942584</td>\n",
       "      <td>19.271122</td>\n",
       "      <td>14.6340</td>\n",
       "      <td>6.313720</td>\n",
       "      <td>2</td>\n",
       "    </tr>\n",
       "    <tr>\n",
       "      <th>11</th>\n",
       "      <td>PaSAC80</td>\n",
       "      <td>7.191176</td>\n",
       "      <td>12.592010</td>\n",
       "      <td>1.959200</td>\n",
       "      <td>20.050833</td>\n",
       "      <td>14.7530</td>\n",
       "      <td>6.288114</td>\n",
       "      <td>2</td>\n",
       "    </tr>\n",
       "    <tr>\n",
       "      <th>12</th>\n",
       "      <td>PaSAC80</td>\n",
       "      <td>7.304711</td>\n",
       "      <td>15.236109</td>\n",
       "      <td>1.964031</td>\n",
       "      <td>19.971122</td>\n",
       "      <td>14.6750</td>\n",
       "      <td>6.081738</td>\n",
       "      <td>2</td>\n",
       "    </tr>\n",
       "    <tr>\n",
       "      <th>13</th>\n",
       "      <td>PaSAC80</td>\n",
       "      <td>7.286623</td>\n",
       "      <td>11.586072</td>\n",
       "      <td>1.952584</td>\n",
       "      <td>19.935083</td>\n",
       "      <td>14.6340</td>\n",
       "      <td>6.237203</td>\n",
       "      <td>2</td>\n",
       "    </tr>\n",
       "    <tr>\n",
       "      <th>14</th>\n",
       "      <td>PaSAC80</td>\n",
       "      <td>7.259118</td>\n",
       "      <td>13.168053</td>\n",
       "      <td>1.959200</td>\n",
       "      <td>19.771122</td>\n",
       "      <td>14.7530</td>\n",
       "      <td>6.188114</td>\n",
       "      <td>2</td>\n",
       "    </tr>\n",
       "    <tr>\n",
       "      <th>15</th>\n",
       "      <td>PaSAC80</td>\n",
       "      <td>7.314711</td>\n",
       "      <td>14.928945</td>\n",
       "      <td>1.966403</td>\n",
       "      <td>20.150833</td>\n",
       "      <td>14.6850</td>\n",
       "      <td>6.081738</td>\n",
       "      <td>2</td>\n",
       "    </tr>\n",
       "    <tr>\n",
       "      <th>16</th>\n",
       "      <td>PaSAC80</td>\n",
       "      <td>7.206623</td>\n",
       "      <td>15.102677</td>\n",
       "      <td>1.952584</td>\n",
       "      <td>20.300833</td>\n",
       "      <td>14.6140</td>\n",
       "      <td>6.213720</td>\n",
       "      <td>2</td>\n",
       "    </tr>\n",
       "    <tr>\n",
       "      <th>17</th>\n",
       "      <td>PaSAC80</td>\n",
       "      <td>7.291176</td>\n",
       "      <td>13.687710</td>\n",
       "      <td>1.959200</td>\n",
       "      <td>19.991122</td>\n",
       "      <td>14.7530</td>\n",
       "      <td>6.188114</td>\n",
       "      <td>2</td>\n",
       "    </tr>\n",
       "    <tr>\n",
       "      <th>18</th>\n",
       "      <td>PaLIO50</td>\n",
       "      <td>7.102188</td>\n",
       "      <td>12.791178</td>\n",
       "      <td>1.368725</td>\n",
       "      <td>19.905859</td>\n",
       "      <td>16.4680</td>\n",
       "      <td>5.753671</td>\n",
       "      <td>3</td>\n",
       "    </tr>\n",
       "    <tr>\n",
       "      <th>19</th>\n",
       "      <td>PaLIO50</td>\n",
       "      <td>7.196894</td>\n",
       "      <td>15.965394</td>\n",
       "      <td>1.303278</td>\n",
       "      <td>20.171591</td>\n",
       "      <td>16.1755</td>\n",
       "      <td>5.773442</td>\n",
       "      <td>3</td>\n",
       "    </tr>\n",
       "    <tr>\n",
       "      <th>20</th>\n",
       "      <td>PaLIO50</td>\n",
       "      <td>7.107076</td>\n",
       "      <td>16.484575</td>\n",
       "      <td>1.338515</td>\n",
       "      <td>19.958589</td>\n",
       "      <td>16.1805</td>\n",
       "      <td>5.572949</td>\n",
       "      <td>3</td>\n",
       "    </tr>\n",
       "    <tr>\n",
       "      <th>21</th>\n",
       "      <td>PaLIO50</td>\n",
       "      <td>7.132188</td>\n",
       "      <td>18.447367</td>\n",
       "      <td>1.348725</td>\n",
       "      <td>20.101591</td>\n",
       "      <td>16.4680</td>\n",
       "      <td>5.753671</td>\n",
       "      <td>3</td>\n",
       "    </tr>\n",
       "    <tr>\n",
       "      <th>22</th>\n",
       "      <td>PaLIO50</td>\n",
       "      <td>7.156894</td>\n",
       "      <td>14.002347</td>\n",
       "      <td>1.332781</td>\n",
       "      <td>19.995859</td>\n",
       "      <td>16.1755</td>\n",
       "      <td>5.673442</td>\n",
       "      <td>3</td>\n",
       "    </tr>\n",
       "    <tr>\n",
       "      <th>23</th>\n",
       "      <td>PaLIO50</td>\n",
       "      <td>7.167076</td>\n",
       "      <td>15.731846</td>\n",
       "      <td>1.328515</td>\n",
       "      <td>19.971591</td>\n",
       "      <td>16.1805</td>\n",
       "      <td>5.672949</td>\n",
       "      <td>3</td>\n",
       "    </tr>\n",
       "    <tr>\n",
       "      <th>24</th>\n",
       "      <td>PaLIO50</td>\n",
       "      <td>7.102188</td>\n",
       "      <td>15.044183</td>\n",
       "      <td>1.348725</td>\n",
       "      <td>19.905859</td>\n",
       "      <td>16.4680</td>\n",
       "      <td>5.753671</td>\n",
       "      <td>3</td>\n",
       "    </tr>\n",
       "    <tr>\n",
       "      <th>25</th>\n",
       "      <td>PaLIO50</td>\n",
       "      <td>7.186894</td>\n",
       "      <td>15.659852</td>\n",
       "      <td>1.313278</td>\n",
       "      <td>19.945859</td>\n",
       "      <td>16.1755</td>\n",
       "      <td>5.773442</td>\n",
       "      <td>3</td>\n",
       "    </tr>\n",
       "    <tr>\n",
       "      <th>26</th>\n",
       "      <td>PaLIO50</td>\n",
       "      <td>7.127076</td>\n",
       "      <td>15.188894</td>\n",
       "      <td>1.328515</td>\n",
       "      <td>20.131591</td>\n",
       "      <td>16.1805</td>\n",
       "      <td>5.682949</td>\n",
       "      <td>3</td>\n",
       "    </tr>\n",
       "    <tr>\n",
       "      <th>27</th>\n",
       "      <td>PaLIO80</td>\n",
       "      <td>6.001933</td>\n",
       "      <td>15.474228</td>\n",
       "      <td>1.427530</td>\n",
       "      <td>17.735205</td>\n",
       "      <td>14.0540</td>\n",
       "      <td>5.795314</td>\n",
       "      <td>4</td>\n",
       "    </tr>\n",
       "    <tr>\n",
       "      <th>28</th>\n",
       "      <td>PaLIO80</td>\n",
       "      <td>6.141958</td>\n",
       "      <td>17.670509</td>\n",
       "      <td>1.408794</td>\n",
       "      <td>16.972876</td>\n",
       "      <td>13.9350</td>\n",
       "      <td>5.895480</td>\n",
       "      <td>4</td>\n",
       "    </tr>\n",
       "    <tr>\n",
       "      <th>29</th>\n",
       "      <td>PaLIO80</td>\n",
       "      <td>6.064039</td>\n",
       "      <td>17.193656</td>\n",
       "      <td>1.420343</td>\n",
       "      <td>16.945205</td>\n",
       "      <td>13.9970</td>\n",
       "      <td>5.664212</td>\n",
       "      <td>4</td>\n",
       "    </tr>\n",
       "    <tr>\n",
       "      <th>30</th>\n",
       "      <td>PaLIO80</td>\n",
       "      <td>6.019329</td>\n",
       "      <td>14.279045</td>\n",
       "      <td>1.427530</td>\n",
       "      <td>16.912876</td>\n",
       "      <td>13.9540</td>\n",
       "      <td>5.753144</td>\n",
       "      <td>4</td>\n",
       "    </tr>\n",
       "    <tr>\n",
       "      <th>31</th>\n",
       "      <td>PaLIO80</td>\n",
       "      <td>6.041958</td>\n",
       "      <td>17.284586</td>\n",
       "      <td>1.408794</td>\n",
       "      <td>17.035205</td>\n",
       "      <td>13.9950</td>\n",
       "      <td>5.895480</td>\n",
       "      <td>4</td>\n",
       "    </tr>\n",
       "    <tr>\n",
       "      <th>32</th>\n",
       "      <td>PaLIO80</td>\n",
       "      <td>6.084039</td>\n",
       "      <td>17.549530</td>\n",
       "      <td>1.420343</td>\n",
       "      <td>16.992876</td>\n",
       "      <td>14.0270</td>\n",
       "      <td>5.764212</td>\n",
       "      <td>4</td>\n",
       "    </tr>\n",
       "    <tr>\n",
       "      <th>33</th>\n",
       "      <td>PaLIO80</td>\n",
       "      <td>6.031933</td>\n",
       "      <td>18.637133</td>\n",
       "      <td>1.427530</td>\n",
       "      <td>17.352045</td>\n",
       "      <td>13.9540</td>\n",
       "      <td>5.705314</td>\n",
       "      <td>4</td>\n",
       "    </tr>\n",
       "    <tr>\n",
       "      <th>34</th>\n",
       "      <td>PaLIO80</td>\n",
       "      <td>6.101958</td>\n",
       "      <td>17.301584</td>\n",
       "      <td>1.408794</td>\n",
       "      <td>17.435205</td>\n",
       "      <td>13.9950</td>\n",
       "      <td>5.795480</td>\n",
       "      <td>4</td>\n",
       "    </tr>\n",
       "    <tr>\n",
       "      <th>35</th>\n",
       "      <td>PaLIO80</td>\n",
       "      <td>6.084039</td>\n",
       "      <td>18.797354</td>\n",
       "      <td>1.420343</td>\n",
       "      <td>16.992876</td>\n",
       "      <td>13.9670</td>\n",
       "      <td>5.714212</td>\n",
       "      <td>4</td>\n",
       "    </tr>\n",
       "  </tbody>\n",
       "</table>\n",
       "</div>"
      ],
      "text/plain": [
       "    MUESTRA   HUMEDAD   AZUCARES    ETEREO      FIBRA  PROTEINA    CENIZA  \\\n",
       "0   PaSAC50  8.171828  10.844601  1.875403  22.001089   16.0300  6.879787   \n",
       "1   PaSAC50  8.047318  12.782585  1.872500  21.374351   16.1560  7.010996   \n",
       "2   PaSAC50  7.983207  13.015447  1.877934  22.001089   16.0560  6.940326   \n",
       "3   PaSAC50  8.071828  11.947515  1.876403  21.743508   16.0300  6.979787   \n",
       "4   PaSAC50  8.097318  11.933919  1.873500  21.901089   16.0860  7.000996   \n",
       "5   PaSAC50  7.983207  13.662424  1.876934  21.843508   16.0760  6.990326   \n",
       "6   PaSAC50  8.121828  14.887668  1.875403  21.701089   16.0400  6.909787   \n",
       "7   PaSAC50  8.147318  11.850996  1.875500  21.991089   16.1260  6.996335   \n",
       "8   PaSAC50  8.083207  11.167006  1.877934  21.574351   16.0960  6.983259   \n",
       "9   PaSAC80  7.334711  14.590271  1.976403  20.350833   14.6750  5.981738   \n",
       "10  PaSAC80  7.236623  13.748634  1.942584  19.271122   14.6340  6.313720   \n",
       "11  PaSAC80  7.191176  12.592010  1.959200  20.050833   14.7530  6.288114   \n",
       "12  PaSAC80  7.304711  15.236109  1.964031  19.971122   14.6750  6.081738   \n",
       "13  PaSAC80  7.286623  11.586072  1.952584  19.935083   14.6340  6.237203   \n",
       "14  PaSAC80  7.259118  13.168053  1.959200  19.771122   14.7530  6.188114   \n",
       "15  PaSAC80  7.314711  14.928945  1.966403  20.150833   14.6850  6.081738   \n",
       "16  PaSAC80  7.206623  15.102677  1.952584  20.300833   14.6140  6.213720   \n",
       "17  PaSAC80  7.291176  13.687710  1.959200  19.991122   14.7530  6.188114   \n",
       "18  PaLIO50  7.102188  12.791178  1.368725  19.905859   16.4680  5.753671   \n",
       "19  PaLIO50  7.196894  15.965394  1.303278  20.171591   16.1755  5.773442   \n",
       "20  PaLIO50  7.107076  16.484575  1.338515  19.958589   16.1805  5.572949   \n",
       "21  PaLIO50  7.132188  18.447367  1.348725  20.101591   16.4680  5.753671   \n",
       "22  PaLIO50  7.156894  14.002347  1.332781  19.995859   16.1755  5.673442   \n",
       "23  PaLIO50  7.167076  15.731846  1.328515  19.971591   16.1805  5.672949   \n",
       "24  PaLIO50  7.102188  15.044183  1.348725  19.905859   16.4680  5.753671   \n",
       "25  PaLIO50  7.186894  15.659852  1.313278  19.945859   16.1755  5.773442   \n",
       "26  PaLIO50  7.127076  15.188894  1.328515  20.131591   16.1805  5.682949   \n",
       "27  PaLIO80  6.001933  15.474228  1.427530  17.735205   14.0540  5.795314   \n",
       "28  PaLIO80  6.141958  17.670509  1.408794  16.972876   13.9350  5.895480   \n",
       "29  PaLIO80  6.064039  17.193656  1.420343  16.945205   13.9970  5.664212   \n",
       "30  PaLIO80  6.019329  14.279045  1.427530  16.912876   13.9540  5.753144   \n",
       "31  PaLIO80  6.041958  17.284586  1.408794  17.035205   13.9950  5.895480   \n",
       "32  PaLIO80  6.084039  17.549530  1.420343  16.992876   14.0270  5.764212   \n",
       "33  PaLIO80  6.031933  18.637133  1.427530  17.352045   13.9540  5.705314   \n",
       "34  PaLIO80  6.101958  17.301584  1.408794  17.435205   13.9950  5.795480   \n",
       "35  PaLIO80  6.084039  18.797354  1.420343  16.992876   13.9670  5.714212   \n",
       "\n",
       "    Cluster  \n",
       "0         1  \n",
       "1         1  \n",
       "2         1  \n",
       "3         1  \n",
       "4         1  \n",
       "5         1  \n",
       "6         1  \n",
       "7         1  \n",
       "8         1  \n",
       "9         2  \n",
       "10        2  \n",
       "11        2  \n",
       "12        2  \n",
       "13        2  \n",
       "14        2  \n",
       "15        2  \n",
       "16        2  \n",
       "17        2  \n",
       "18        3  \n",
       "19        3  \n",
       "20        3  \n",
       "21        3  \n",
       "22        3  \n",
       "23        3  \n",
       "24        3  \n",
       "25        3  \n",
       "26        3  \n",
       "27        4  \n",
       "28        4  \n",
       "29        4  \n",
       "30        4  \n",
       "31        4  \n",
       "32        4  \n",
       "33        4  \n",
       "34        4  \n",
       "35        4  "
      ]
     },
     "execution_count": 169,
     "metadata": {},
     "output_type": "execute_result"
    }
   ],
   "source": [
    "df"
   ]
  },
  {
   "cell_type": "code",
   "execution_count": null,
   "metadata": {},
   "outputs": [],
   "source": []
  }
 ],
 "metadata": {
  "kernelspec": {
   "display_name": "Python 3",
   "language": "python",
   "name": "python3"
  },
  "language_info": {
   "codemirror_mode": {
    "name": "ipython",
    "version": 3
   },
   "file_extension": ".py",
   "mimetype": "text/x-python",
   "name": "python",
   "nbconvert_exporter": "python",
   "pygments_lexer": "ipython3",
   "version": "3.6.5"
  }
 },
 "nbformat": 4,
 "nbformat_minor": 2
}
